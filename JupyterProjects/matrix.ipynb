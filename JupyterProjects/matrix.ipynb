{
 "cells": [
  {
   "cell_type": "code",
   "execution_count": 2,
   "metadata": {},
   "outputs": [
    {
     "name": "stdout",
     "output_type": "stream",
     "text": [
      "5.0\n"
     ]
    }
   ],
   "source": [
    "#VECTOR AND MATRIX MATHEMATICS\n",
    "import numpy as np\n",
    "a=np.array([1,2,3],float)\n",
    "b=np.array([0,1,1],float)\n",
    "print(np.dot(a,b))"
   ]
  },
  {
   "cell_type": "code",
   "execution_count": 4,
   "metadata": {},
   "outputs": [
    {
     "name": "stdout",
     "output_type": "stream",
     "text": [
      "[ 3. 13.]\n",
      "[ 6. 11.]\n",
      "[[ 4.  0.]\n",
      " [14.  2.]]\n"
     ]
    }
   ],
   "source": [
    "#dot to matrix multiplication\n",
    "a=np.array([[0,1],[2,3]],float)\n",
    "b=np.array([2,3],float)\n",
    "c=np.array([[1,1],[4,0]],float)\n",
    "print(np.dot(a,b))\n",
    "print(np.dot(b,a))\n",
    "print(np.dot(a,c))\n"
   ]
  },
  {
   "cell_type": "code",
   "execution_count": 5,
   "metadata": {},
   "outputs": [
    {
     "name": "stdout",
     "output_type": "stream",
     "text": [
      "[[2. 2. 1.]\n",
      " [8. 8. 4.]\n",
      " [0. 0. 0.]]\n",
      "10.0\n",
      "[ 4. -1. -6.]\n"
     ]
    }
   ],
   "source": [
    "#inner #outer #cross\n",
    "#inner is equivalent to dot product\n",
    "a=np.array([1,4,0],float)\n",
    "b=np.array([2,2,1],float)\n",
    "print(np.outer(a,b))\n",
    "print(np.inner(a,b))\n",
    "print(np.cross(a,b))"
   ]
  },
  {
   "cell_type": "code",
   "execution_count": 6,
   "metadata": {},
   "outputs": [
    {
     "name": "stdout",
     "output_type": "stream",
     "text": [
      "[[4. 2. 0.]\n",
      " [9. 3. 7.]\n",
      " [1. 2. 1.]]\n",
      "-48.00000000000003\n",
      "[ 8.85591316  1.9391628  -2.79507597]\n",
      "[[-0.3663565  -0.54736745  0.25928158]\n",
      " [-0.88949768  0.5640176  -0.88091903]\n",
      " [-0.27308752  0.61828231  0.39592263]]\n"
     ]
    }
   ],
   "source": [
    "#determinant\n",
    "a=np.array([[4,2,0],[9,3,7],[1,2,1]],float)\n",
    "print(a)\n",
    "print(np.linalg.det(a))\n",
    "\n",
    "#eigenvalue and eigenvector\n",
    "vals,vecs=np.linalg.eig(a)\n",
    "print(vals)\n",
    "print(vecs)"
   ]
  },
  {
   "cell_type": "code",
   "execution_count": 7,
   "metadata": {},
   "outputs": [
    {
     "name": "stdout",
     "output_type": "stream",
     "text": [
      "[[ 0.22916667  0.04166667 -0.29166667]\n",
      " [ 0.04166667 -0.08333333  0.58333333]\n",
      " [-0.3125      0.125       0.125     ]]\n",
      "[[1.00000000e+00 5.55111512e-17 0.00000000e+00]\n",
      " [0.00000000e+00 1.00000000e+00 2.22044605e-16]\n",
      " [0.00000000e+00 1.38777878e-17 1.00000000e+00]]\n"
     ]
    }
   ],
   "source": [
    "#inverse\n",
    "a=np.array([[4,2,0],[9,3,7],[1,2,1]],float)\n",
    "b=np.linalg.inv(a)\n",
    "print(b)\n",
    "print(np.dot(a,b))"
   ]
  },
  {
   "cell_type": "code",
   "execution_count": 5,
   "metadata": {},
   "outputs": [
    {
     "name": "stdout",
     "output_type": "stream",
     "text": [
      "[[-1.4  0.6]\n",
      " [ 0.8 -0.2]]\n",
      "[[1 4]\n",
      " [3 7]]\n",
      "[[2 5]\n",
      " [4 7]\n",
      " [9 0]]\n"
     ]
    }
   ],
   "source": [
    "import numpy as np\n",
    "A=np.mat('[1,3;4,7]')\n",
    "print(A.I)\n",
    "print(A.T)\n",
    "b=np.mat('[2,5;4,7;9,0]')\n",
    "c=b.A\n",
    "print(c)"
   ]
  },
  {
   "cell_type": "code",
   "execution_count": 7,
   "metadata": {},
   "outputs": [
    {
     "name": "stdout",
     "output_type": "stream",
     "text": [
      "[[1 3 5]\n",
      " [2 5 1]\n",
      " [2 3 8]]\n",
      "[10  8  3]\n",
      "[[-1.48  0.36  0.88]\n",
      " [ 0.56  0.08 -0.36]\n",
      " [ 0.16 -0.12  0.04]]\n",
      "the solution of equation is; [-9.28  5.16  0.76]\n",
      "the fast solution of equation is; [-9.28  5.16  0.76]\n"
     ]
    }
   ],
   "source": [
    "#solving a linear system\n",
    "import numpy as np\n",
    "from scipy import linalg\n",
    "A=np.array([[1,3,5],[2,5,1],[2,3,8]],int)\n",
    "print(A)\n",
    "B=np.array([10,8,3],int)\n",
    "print(B)\n",
    "c_inv=linalg.inv(A)\n",
    "print(c_inv)\n",
    "sol=c_inv.dot(B.T)\n",
    "sol2=np.linalg.solve(A,B.T)\n",
    "print(\"the solution of equation is;\",sol)\n",
    "print(\"the fast solution of equation is;\",sol2)"
   ]
  },
  {
   "cell_type": "code",
   "execution_count": 8,
   "metadata": {},
   "outputs": [
    {
     "name": "stdout",
     "output_type": "stream",
     "text": [
      "[[-0.6113829  -0.79133492]\n",
      " [-0.79133492  0.6113829 ]]\n",
      "[7.46791327 2.86884495]\n",
      "[[-0.61169129 -0.45753324 -0.64536587]\n",
      " [ 0.78971838 -0.40129005 -0.46401635]\n",
      " [-0.046676   -0.79349205  0.60678804]]\n"
     ]
    }
   ],
   "source": [
    "#singular value decomposition\n",
    "a=np.array([[1,3,4],[5,2,3]],float)\n",
    "U,s,Vh=np.linalg.svd(a)\n",
    "print(U)\n",
    "print(s)\n",
    "print(Vh)"
   ]
  },
  {
   "cell_type": "code",
   "execution_count": 5,
   "metadata": {},
   "outputs": [
    {
     "name": "stdout",
     "output_type": "stream",
     "text": [
      "[  1. -11.   9.  11. -10.]\n",
      "[-4.5797401 +0.j          0.28987005+0.75566815j  0.28987005-0.75566815j]\n",
      "[0.25       0.33333333 0.5        1.         0.        ]\n",
      "[1. 1. 1. 1.]\n"
     ]
    }
   ],
   "source": [
    "#POLYNOMIAL\n",
    "import numpy as np\n",
    "a=np.poly([-1,1,1,10])\n",
    "print(a)\n",
    "b=np.roots([1,4,-2,3])\n",
    "print(b)\n",
    "\n",
    "\"\"\"\n",
    "integrating polynomial\n",
    "\"\"\"\n",
    "print(np.polyint([1,1,1,1]))\n",
    "\n",
    "\"\"\"differentiating polynomial\"\"\"\n",
    "print(np.polyder([1./4.,1./3.,1./2.,1.,0.]))"
   ]
  },
  {
   "cell_type": "code",
   "execution_count": 9,
   "metadata": {},
   "outputs": [
    {
     "name": "stdout",
     "output_type": "stream",
     "text": [
      "addition: [3 3 7]\n",
      "subtraction: [-1  3 -3]\n",
      "multiplication: [ 2  6  9 15 10]\n",
      "division: (array([0.5]), array([ 3. , -0.5]))\n",
      "evaluating a polynomial\n",
      "34\n",
      "fitting a polynomial least square\n",
      "the coeficient of the equation are; [ 0.375      -0.88690476  1.05357143]\n"
     ]
    }
   ],
   "source": [
    "#basic operation \n",
    "print(\"addition:\", np.polyadd([1,3,2],[2,0,5]))\n",
    "print(\"subtraction:\", np.polysub([1,3,2],[2,0,5]))\n",
    "print(\"multiplication:\", np.polymul([1,3,2],[2,0,5]))\n",
    "print(\"division:\", np.polydiv([1,3,2],[2,0,5]))\n",
    "\n",
    "print(\"evaluating a polynomial\")\n",
    "print(np.polyval([1,-2,0,2],4))\n",
    "\n",
    "print(\"fitting a polynomial least square\")\n",
    "x=[1,2,3,4,5,6,7,8]\n",
    "y=[0,2,1,3,7,10,11,19]\n",
    "print(\"the coeficient of the equation are;\", np.polyfit(x,y,2))\n"
   ]
  },
  {
   "cell_type": "code",
   "execution_count": 3,
   "metadata": {},
   "outputs": [
    {
     "name": "stdout",
     "output_type": "stream",
     "text": [
      "Enter digit:4\n",
      "next:5\n",
      "next:3\n",
      "next:2\n",
      "next:5\n",
      "next:\n",
      "[4. 5. 3. 2. 5.]\n",
      "[2. 3. 4. 5. 5.]\n",
      "median: 4.0\n",
      "mean: 3.8\n",
      "variance: 1.3599999999999999\n",
      "standard deviation: 1.16619037896906\n"
     ]
    }
   ],
   "source": [
    "#STATISTICS\n",
    "a=[]\n",
    "num=float(input(\"Enter digit:\"))\n",
    "while num!=\"\":\n",
    "    a.append(num)\n",
    "    num=input(\"next:\")\n",
    "b=np.array(a,float)\n",
    "print(b)\n",
    "print(np.sort(b))\n",
    "print(\"median:\",np.median(b))\n",
    "print(\"mean:\",np.mean(b))\n",
    "print(\"variance:\",np.var(b))\n",
    "print(\"standard deviation:\",np.std(b))\n",
    "    "
   ]
  },
  {
   "cell_type": "code",
   "execution_count": null,
   "metadata": {},
   "outputs": [],
   "source": [
    "#correlation\n",
    "import numpy as np\n",
    "import matplotlib.pyplot as plt\n",
    "x=[]\n",
    "y=[]\n",
    "n=int(input(\"number of paired value:\"))\n",
    "num1=float(input(\"Enter x digit:\"))\n",
    "while len(x)<=(n-1):\n",
    "    x.append(num1)\n",
    "    num1=input(\"next:\")\n",
    "num2=float(input(\"Enter y digit:\"))\n",
    "while len(y)<=(n-1):\n",
    "    y.append(num2)\n",
    "    num2=input(\"next:\")\n",
    "print(\"Entry Complete as the length = n-pair\")\n",
    "b=np.array((x,y),float)\n",
    "print(b)\n",
    "def correlation(b):\n",
    "    return np.corrcoef(b), np.cov(b)\n",
    "np.corrcoef, np.cov = correlation(b)\n",
    "print(\"correlation coefficient:\",np.corrcoef, \"covariance:\",np.cov)\n",
    "\n",
    "   \n"
   ]
  },
  {
   "cell_type": "code",
   "execution_count": 1,
   "metadata": {},
   "outputs": [
    {
     "data": {
      "text/plain": [
       "array([0.3527652 , 0.24368066, 0.66386938, 0.42776145, 0.4021145 ])"
      ]
     },
     "execution_count": 1,
     "metadata": {},
     "output_type": "execute_result"
    }
   ],
   "source": [
    "#Random Numbers\n",
    "import numpy as np\n",
    "np.random.seed(2342)\n",
    "np.random.rand(5)"
   ]
  },
  {
   "cell_type": "code",
   "execution_count": 17,
   "metadata": {},
   "outputs": [],
   "source": []
  },
  {
   "cell_type": "code",
   "execution_count": 18,
   "metadata": {},
   "outputs": [
    {
     "ename": "FileNotFoundError",
     "evalue": "[Errno 2] No such file or directory: 'C:/Users/Dell/Desktop/McGeorge/Tracker/Kwara LastMile'",
     "output_type": "error",
     "traceback": [
      "\u001b[1;31m---------------------------------------------------------------------------\u001b[0m",
      "\u001b[1;31mFileNotFoundError\u001b[0m                         Traceback (most recent call last)",
      "Input \u001b[1;32mIn [18]\u001b[0m, in \u001b[0;36m<module>\u001b[1;34m\u001b[0m\n\u001b[1;32m----> 1\u001b[0m kwara\u001b[38;5;241m=\u001b[39m\u001b[43mpd\u001b[49m\u001b[38;5;241;43m.\u001b[39;49m\u001b[43mread_excel\u001b[49m\u001b[43m(\u001b[49m\u001b[38;5;124;43m'\u001b[39;49m\u001b[38;5;124;43mC:/Users/Dell/Desktop/McGeorge/Tracker/Kwara LastMile\u001b[39;49m\u001b[38;5;124;43m'\u001b[39;49m\u001b[43m)\u001b[49m\n",
      "File \u001b[1;32m~\\anaconda3\\lib\\site-packages\\pandas\\util\\_decorators.py:299\u001b[0m, in \u001b[0;36mdeprecate_nonkeyword_arguments.<locals>.decorate.<locals>.wrapper\u001b[1;34m(*args, **kwargs)\u001b[0m\n\u001b[0;32m    294\u001b[0m     msg \u001b[38;5;241m=\u001b[39m (\n\u001b[0;32m    295\u001b[0m         \u001b[38;5;124mf\u001b[39m\u001b[38;5;124m\"\u001b[39m\u001b[38;5;124mStarting with Pandas version \u001b[39m\u001b[38;5;132;01m{\u001b[39;00mversion\u001b[38;5;132;01m}\u001b[39;00m\u001b[38;5;124m all arguments of \u001b[39m\u001b[38;5;124m\"\u001b[39m\n\u001b[0;32m    296\u001b[0m         \u001b[38;5;124mf\u001b[39m\u001b[38;5;124m\"\u001b[39m\u001b[38;5;132;01m{\u001b[39;00mfunc\u001b[38;5;241m.\u001b[39m\u001b[38;5;18m__name__\u001b[39m\u001b[38;5;132;01m}\u001b[39;00m\u001b[38;5;132;01m{\u001b[39;00marguments\u001b[38;5;132;01m}\u001b[39;00m\u001b[38;5;124m will be keyword-only\u001b[39m\u001b[38;5;124m\"\u001b[39m\n\u001b[0;32m    297\u001b[0m     )\n\u001b[0;32m    298\u001b[0m     warnings\u001b[38;5;241m.\u001b[39mwarn(msg, \u001b[38;5;167;01mFutureWarning\u001b[39;00m, stacklevel\u001b[38;5;241m=\u001b[39mstacklevel)\n\u001b[1;32m--> 299\u001b[0m \u001b[38;5;28;01mreturn\u001b[39;00m \u001b[43mfunc\u001b[49m\u001b[43m(\u001b[49m\u001b[38;5;241;43m*\u001b[39;49m\u001b[43margs\u001b[49m\u001b[43m,\u001b[49m\u001b[43m \u001b[49m\u001b[38;5;241;43m*\u001b[39;49m\u001b[38;5;241;43m*\u001b[39;49m\u001b[43mkwargs\u001b[49m\u001b[43m)\u001b[49m\n",
      "File \u001b[1;32m~\\anaconda3\\lib\\site-packages\\pandas\\io\\excel\\_base.py:336\u001b[0m, in \u001b[0;36mread_excel\u001b[1;34m(io, sheet_name, header, names, index_col, usecols, squeeze, dtype, engine, converters, true_values, false_values, skiprows, nrows, na_values, keep_default_na, na_filter, verbose, parse_dates, date_parser, thousands, comment, skipfooter, convert_float, mangle_dupe_cols, storage_options)\u001b[0m\n\u001b[0;32m    334\u001b[0m \u001b[38;5;28;01mif\u001b[39;00m \u001b[38;5;129;01mnot\u001b[39;00m \u001b[38;5;28misinstance\u001b[39m(io, ExcelFile):\n\u001b[0;32m    335\u001b[0m     should_close \u001b[38;5;241m=\u001b[39m \u001b[38;5;28;01mTrue\u001b[39;00m\n\u001b[1;32m--> 336\u001b[0m     io \u001b[38;5;241m=\u001b[39m \u001b[43mExcelFile\u001b[49m\u001b[43m(\u001b[49m\u001b[43mio\u001b[49m\u001b[43m,\u001b[49m\u001b[43m \u001b[49m\u001b[43mstorage_options\u001b[49m\u001b[38;5;241;43m=\u001b[39;49m\u001b[43mstorage_options\u001b[49m\u001b[43m,\u001b[49m\u001b[43m \u001b[49m\u001b[43mengine\u001b[49m\u001b[38;5;241;43m=\u001b[39;49m\u001b[43mengine\u001b[49m\u001b[43m)\u001b[49m\n\u001b[0;32m    337\u001b[0m \u001b[38;5;28;01melif\u001b[39;00m engine \u001b[38;5;129;01mand\u001b[39;00m engine \u001b[38;5;241m!=\u001b[39m io\u001b[38;5;241m.\u001b[39mengine:\n\u001b[0;32m    338\u001b[0m     \u001b[38;5;28;01mraise\u001b[39;00m \u001b[38;5;167;01mValueError\u001b[39;00m(\n\u001b[0;32m    339\u001b[0m         \u001b[38;5;124m\"\u001b[39m\u001b[38;5;124mEngine should not be specified when passing \u001b[39m\u001b[38;5;124m\"\u001b[39m\n\u001b[0;32m    340\u001b[0m         \u001b[38;5;124m\"\u001b[39m\u001b[38;5;124man ExcelFile - ExcelFile already has the engine set\u001b[39m\u001b[38;5;124m\"\u001b[39m\n\u001b[0;32m    341\u001b[0m     )\n",
      "File \u001b[1;32m~\\anaconda3\\lib\\site-packages\\pandas\\io\\excel\\_base.py:1071\u001b[0m, in \u001b[0;36mExcelFile.__init__\u001b[1;34m(self, path_or_buffer, engine, storage_options)\u001b[0m\n\u001b[0;32m   1069\u001b[0m     ext \u001b[38;5;241m=\u001b[39m \u001b[38;5;124m\"\u001b[39m\u001b[38;5;124mxls\u001b[39m\u001b[38;5;124m\"\u001b[39m\n\u001b[0;32m   1070\u001b[0m \u001b[38;5;28;01melse\u001b[39;00m:\n\u001b[1;32m-> 1071\u001b[0m     ext \u001b[38;5;241m=\u001b[39m \u001b[43minspect_excel_format\u001b[49m\u001b[43m(\u001b[49m\n\u001b[0;32m   1072\u001b[0m \u001b[43m        \u001b[49m\u001b[43mcontent\u001b[49m\u001b[38;5;241;43m=\u001b[39;49m\u001b[43mpath_or_buffer\u001b[49m\u001b[43m,\u001b[49m\u001b[43m \u001b[49m\u001b[43mstorage_options\u001b[49m\u001b[38;5;241;43m=\u001b[39;49m\u001b[43mstorage_options\u001b[49m\n\u001b[0;32m   1073\u001b[0m \u001b[43m    \u001b[49m\u001b[43m)\u001b[49m\n\u001b[0;32m   1075\u001b[0m \u001b[38;5;28;01mif\u001b[39;00m ext \u001b[38;5;241m==\u001b[39m \u001b[38;5;124m\"\u001b[39m\u001b[38;5;124mods\u001b[39m\u001b[38;5;124m\"\u001b[39m:\n\u001b[0;32m   1076\u001b[0m     engine \u001b[38;5;241m=\u001b[39m \u001b[38;5;124m\"\u001b[39m\u001b[38;5;124modf\u001b[39m\u001b[38;5;124m\"\u001b[39m\n",
      "File \u001b[1;32m~\\anaconda3\\lib\\site-packages\\pandas\\io\\excel\\_base.py:949\u001b[0m, in \u001b[0;36minspect_excel_format\u001b[1;34m(path, content, storage_options)\u001b[0m\n\u001b[0;32m    946\u001b[0m     content_or_path \u001b[38;5;241m=\u001b[39m content \u001b[38;5;129;01mor\u001b[39;00m path\n\u001b[0;32m    947\u001b[0m \u001b[38;5;28;01massert\u001b[39;00m content_or_path \u001b[38;5;129;01mis\u001b[39;00m \u001b[38;5;129;01mnot\u001b[39;00m \u001b[38;5;28;01mNone\u001b[39;00m\n\u001b[1;32m--> 949\u001b[0m \u001b[38;5;28;01mwith\u001b[39;00m \u001b[43mget_handle\u001b[49m\u001b[43m(\u001b[49m\n\u001b[0;32m    950\u001b[0m \u001b[43m    \u001b[49m\u001b[43mcontent_or_path\u001b[49m\u001b[43m,\u001b[49m\u001b[43m \u001b[49m\u001b[38;5;124;43m\"\u001b[39;49m\u001b[38;5;124;43mrb\u001b[39;49m\u001b[38;5;124;43m\"\u001b[39;49m\u001b[43m,\u001b[49m\u001b[43m \u001b[49m\u001b[43mstorage_options\u001b[49m\u001b[38;5;241;43m=\u001b[39;49m\u001b[43mstorage_options\u001b[49m\u001b[43m,\u001b[49m\u001b[43m \u001b[49m\u001b[43mis_text\u001b[49m\u001b[38;5;241;43m=\u001b[39;49m\u001b[38;5;28;43;01mFalse\u001b[39;49;00m\n\u001b[0;32m    951\u001b[0m \u001b[43m\u001b[49m\u001b[43m)\u001b[49m \u001b[38;5;28;01mas\u001b[39;00m handle:\n\u001b[0;32m    952\u001b[0m     stream \u001b[38;5;241m=\u001b[39m handle\u001b[38;5;241m.\u001b[39mhandle\n\u001b[0;32m    953\u001b[0m     stream\u001b[38;5;241m.\u001b[39mseek(\u001b[38;5;241m0\u001b[39m)\n",
      "File \u001b[1;32m~\\anaconda3\\lib\\site-packages\\pandas\\io\\common.py:651\u001b[0m, in \u001b[0;36mget_handle\u001b[1;34m(path_or_buf, mode, encoding, compression, memory_map, is_text, errors, storage_options)\u001b[0m\n\u001b[0;32m    642\u001b[0m         handle \u001b[38;5;241m=\u001b[39m \u001b[38;5;28mopen\u001b[39m(\n\u001b[0;32m    643\u001b[0m             handle,\n\u001b[0;32m    644\u001b[0m             ioargs\u001b[38;5;241m.\u001b[39mmode,\n\u001b[1;32m   (...)\u001b[0m\n\u001b[0;32m    647\u001b[0m             newline\u001b[38;5;241m=\u001b[39m\u001b[38;5;124m\"\u001b[39m\u001b[38;5;124m\"\u001b[39m,\n\u001b[0;32m    648\u001b[0m         )\n\u001b[0;32m    649\u001b[0m     \u001b[38;5;28;01melse\u001b[39;00m:\n\u001b[0;32m    650\u001b[0m         \u001b[38;5;66;03m# Binary mode\u001b[39;00m\n\u001b[1;32m--> 651\u001b[0m         handle \u001b[38;5;241m=\u001b[39m \u001b[38;5;28;43mopen\u001b[39;49m\u001b[43m(\u001b[49m\u001b[43mhandle\u001b[49m\u001b[43m,\u001b[49m\u001b[43m \u001b[49m\u001b[43mioargs\u001b[49m\u001b[38;5;241;43m.\u001b[39;49m\u001b[43mmode\u001b[49m\u001b[43m)\u001b[49m\n\u001b[0;32m    652\u001b[0m     handles\u001b[38;5;241m.\u001b[39mappend(handle)\n\u001b[0;32m    654\u001b[0m \u001b[38;5;66;03m# Convert BytesIO or file objects passed with an encoding\u001b[39;00m\n",
      "\u001b[1;31mFileNotFoundError\u001b[0m: [Errno 2] No such file or directory: 'C:/Users/Dell/Desktop/McGeorge/Tracker/Kwara LastMile'"
     ]
    }
   ],
   "source": []
  },
  {
   "cell_type": "code",
   "execution_count": null,
   "metadata": {},
   "outputs": [],
   "source": []
  }
 ],
 "metadata": {
  "kernelspec": {
   "display_name": "Python 3 (ipykernel)",
   "language": "python",
   "name": "python3"
  },
  "language_info": {
   "codemirror_mode": {
    "name": "ipython",
    "version": 3
   },
   "file_extension": ".py",
   "mimetype": "text/x-python",
   "name": "python",
   "nbconvert_exporter": "python",
   "pygments_lexer": "ipython3",
   "version": "3.8.8"
  }
 },
 "nbformat": 4,
 "nbformat_minor": 2
}
