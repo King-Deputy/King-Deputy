{
 "cells": [
  {
   "cell_type": "code",
   "execution_count": null,
   "id": "1c4edace",
   "metadata": {},
   "outputs": [],
   "source": [
    "rm(list=ls())"
   ]
  },
  {
   "cell_type": "code",
   "execution_count": null,
   "id": "ec1331e9",
   "metadata": {},
   "outputs": [],
   "source": [
    "x<-3\n",
    "y<-x*3\n",
    "y"
   ]
  },
  {
   "cell_type": "code",
   "execution_count": null,
   "id": "55147ea7",
   "metadata": {},
   "outputs": [],
   "source": []
  }
 ],
 "metadata": {
  "kernelspec": {
   "display_name": "Spark | R",
   "language": "",
   "name": "sparkrkernel"
  }
 },
 "nbformat": 4,
 "nbformat_minor": 5
}
