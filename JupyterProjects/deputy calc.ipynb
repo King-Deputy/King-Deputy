{
 "cells": [
  {
   "cell_type": "code",
   "execution_count": 1,
   "metadata": {},
   "outputs": [
    {
     "name": "stdout",
     "output_type": "stream",
     "text": [
      "WELCOME TO DEPUTY CALCULATOR FOR BASIC OPERATIONS\n",
      "please type in the symbol operation you will like perform: \n",
      " + for addition \n",
      " - for substraction \n",
      " * for multiplication \n",
      " / for Division\n",
      "+\n",
      "double tap the 'enter' key when done with input\n",
      "please enter number:23\n",
      "next:45\n",
      "next:67\n",
      "next:\n",
      "thanks\n",
      "The numbers inputed are: [23.0, '45', '67']\n",
      "ANS=  135.0\n",
      "Finish\n"
     ]
    }
   ],
   "source": [
    "print(\"WELCOME TO DEPUTY CALCULATOR FOR BASIC OPERATIONS\")\n",
    "operation=input(\"please type in the symbol operation you will like perform: \\n + for addition \\n - for substraction \\n * for multiplication \\n / for Division\\n\")\n",
    "print(\"double tap the 'enter' key when done with input\")\n",
    "number=float(input(\"please enter number:\"))\n",
    "addition_list=[]\n",
    "mult_list=[]\n",
    "if operation == '+':\n",
    "    while number != \"\":\n",
    "        addition_list.append(number)\n",
    "        number=(input(\"next:\"))\n",
    "    print(\"thanks\")\n",
    "    print(\"The numbers inputed are:\",addition_list)\n",
    "    sub_total=0\n",
    "    while addition_list!=[]:\n",
    "        sub_total+=float(addition_list.pop(0))\n",
    "    print(\"ANS= \",sub_total)\n",
    "elif operation =='-':\n",
    "    number2=float(input(\"next:\"))\n",
    "    if number2 != \"\":\n",
    "        ans = number - number2\n",
    "    print(\"thanks\")\n",
    "    print(\"ANS= \",ans)\n",
    "elif operation == '*':\n",
    "    while number != \"\":\n",
    "        mult_list.append(number)\n",
    "        number=(input(\"next:\"))\n",
    "    print(\"thanks\")\n",
    "    print(\"The numbers inputed are:\",mult_list)\n",
    "    sub_prod=1\n",
    "    while mult_list!=[]:\n",
    "        sub_prod*=float(mult_list.pop(0))\n",
    "    print(\"ANS= \",sub_prod)\n",
    "elif operation == '/':\n",
    "    number2=float(input(\"next:\"))\n",
    "    if number2 != \"\":\n",
    "        ans = number / number2\n",
    "    print(\"thanks\")\n",
    "    print(\"ANS= \",ans)\n",
    "else:\n",
    "    print(\"You have not enter a valid operator, Rerun\")\n",
    "print(\"Finish\")\n",
    "\n",
    "                    \n",
    "            "
   ]
  },
  {
   "cell_type": "code",
   "execution_count": null,
   "metadata": {},
   "outputs": [],
   "source": []
  },
  {
   "cell_type": "code",
   "execution_count": null,
   "metadata": {},
   "outputs": [],
   "source": []
  },
  {
   "cell_type": "code",
   "execution_count": null,
   "metadata": {},
   "outputs": [],
   "source": []
  }
 ],
 "metadata": {
  "kernelspec": {
   "display_name": "Python 3 (ipykernel)",
   "language": "python",
   "name": "python3"
  },
  "language_info": {
   "codemirror_mode": {
    "name": "ipython",
    "version": 3
   },
   "file_extension": ".py",
   "mimetype": "text/x-python",
   "name": "python",
   "nbconvert_exporter": "python",
   "pygments_lexer": "ipython3",
   "version": "3.8.8"
  }
 },
 "nbformat": 4,
 "nbformat_minor": 2
}
