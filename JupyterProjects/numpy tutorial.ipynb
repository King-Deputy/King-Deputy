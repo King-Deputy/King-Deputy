{
 "cells": [
  {
   "cell_type": "raw",
   "metadata": {
    "scrolled": true
   },
   "source": [
    "#WORKING WITH NUMPY\n",
    "#created with list\n",
    "import numpy as np\n",
    "a=np.array([1,2,4,5],float)\n",
    "type(a)\n",
    "print(a)\n",
    "type(a)\n",
    "print(a[:2], \"#from first value to 3rd value\")\n",
    "print(a[3])\n",
    "print(a[0])"
   ]
  },
  {
   "cell_type": "code",
   "execution_count": 10,
   "metadata": {},
   "outputs": [
    {
     "name": "stdout",
     "output_type": "stream",
     "text": [
      "[[2. 4. 5.]\n",
      " [3. 9. 1.]]\n",
      "2.0\n",
      "4.0\n",
      "[3. 9. 1.] #to print all values in 2nd row\n",
      "[5. 1.] #to print all values in 3rd column\n",
      "[[9. 1.]] #to print all value in 2nd row excluding the first in second\n"
     ]
    }
   ],
   "source": [
    "#Array can be multidimensional\n",
    "a=np.array([[2,4,5],[3,9,1]],float)\n",
    "print(a)\n",
    "print(a[0,0])\n",
    "print(a[0,1])\n",
    "print(a[1,:], \"#to print all values in 2nd row\")\n",
    "print(a[:,2], \"#to print all values in 3rd column\")\n",
    "print(a[-1:,-2:], \"#to print all value in 2nd row excluding the first in second\")"
   ]
  },
  {
   "cell_type": "code",
   "execution_count": 12,
   "metadata": {},
   "outputs": [
    {
     "name": "stdout",
     "output_type": "stream",
     "text": [
      "(2, 3)\n",
      "float64\n",
      "2\n",
      "True\n",
      "False\n"
     ]
    }
   ],
   "source": [
    "#Shape: returns a tuple with the size of each array\n",
    "a=np.array([[2,7,5],[8,9,4]],float)\n",
    "print(a.shape)\n",
    "\n",
    "#dtype: tells you what type of values are stored by the array\n",
    "print(a.dtype)\n",
    "\n",
    "#len: return length of the first axis\n",
    "print(len(a))\n",
    "\n",
    "#in: can be used to test if a value is present in an array\n",
    "print(2 in a)\n",
    "print(0 in a)"
   ]
  },
  {
   "cell_type": "code",
   "execution_count": 13,
   "metadata": {},
   "outputs": [
    {
     "name": "stdout",
     "output_type": "stream",
     "text": [
      "[0. 1. 2. 3. 4. 5. 6. 7. 8. 9.]\n",
      "[[0. 1.]\n",
      " [2. 3.]\n",
      " [4. 5.]\n",
      " [6. 7.]\n",
      " [8. 9.]]\n",
      "[0. 2. 3.]\n",
      "[0. 2. 3.]\n",
      "[1. 2. 3.]\n"
     ]
    }
   ],
   "source": [
    "#reshape: to reshape using tuple that specify new dimension\n",
    "a=np.array(range(10),float)\n",
    "print(a)\n",
    "a=a.reshape(5,2)\n",
    "print(a)\n",
    "#the reshape function create a new array and does not itselfmodify the original array\n",
    "\n",
    "#copy: can be used to create a new, seperate copy of an array in memory if needed\n",
    "a=np.array([1,2,3],float)\n",
    "b=a\n",
    "c=a.copy()\n",
    "a[0]=0\n",
    "print(a)\n",
    "print(b)\n",
    "print(c)"
   ]
  },
  {
   "cell_type": "code",
   "execution_count": 4,
   "metadata": {},
   "outputs": [
    {
     "name": "stdout",
     "output_type": "stream",
     "text": [
      "[1.0, 2.0, 3.0] #using tolist\n",
      "[1.0, 2.0, 3.0]\n",
      "b'\\x00\\x00\\x00\\x00\\x00\\x00\\xf0?\\x00\\x00\\x00\\x00\\x00\\x00\\x00@\\x00\\x00\\x00\\x00\\x00\\x00\\x08@'\n"
     ]
    },
    {
     "name": "stderr",
     "output_type": "stream",
     "text": [
      "c:\\users\\user\\appdata\\local\\programs\\python\\python36-32\\lib\\site-packages\\ipykernel_launcher.py:7: DeprecationWarning: tostring() is deprecated. Use tobytes() instead.\n",
      "  import sys\n",
      "c:\\users\\user\\appdata\\local\\programs\\python\\python36-32\\lib\\site-packages\\ipykernel_launcher.py:11: DeprecationWarning: The binary mode of fromstring is deprecated, as it behaves surprisingly on unicode inputs. Use frombuffer instead\n",
      "  # This is added back by InteractiveShellApp.init_path()\n"
     ]
    }
   ],
   "source": [
    "#tolist: used to create list from arrays\n",
    "a=np.array([1,2,3],float)\n",
    "print(a.tolist(), \"#using tolist\")\n",
    "print(list(a))\n",
    "\n",
    "#tostring: used to convert the raw data into binary string\n",
    "s=a.tostring()\n",
    "print(s)\n",
    "\n",
    "#fromstring: allows an array to be created from the data later on\n",
    "b=np.fromstring(a)\n"
   ]
  },
  {
   "cell_type": "code",
   "execution_count": 22,
   "metadata": {},
   "outputs": [
    {
     "name": "stdout",
     "output_type": "stream",
     "text": [
      "[1. 2. 3.]\n",
      "[0. 0. 0.]\n",
      "[[0. 1. 2.]\n",
      " [3. 4. 5.]]\n",
      "(2, 3)\n",
      "[[0. 3.]\n",
      " [1. 4.]\n",
      " [2. 5.]]\n",
      "(3, 2)\n",
      "[0. 3. 1. 4. 2. 5.]\n",
      "(6,)\n"
     ]
    }
   ],
   "source": [
    "#fill: to fill an array with a single value\n",
    "a=np.array([1,2,3],float)\n",
    "print(a)\n",
    "a.fill(0)\n",
    "print(a)\n",
    "\n",
    "#transpose: create a new array with the final two axes switched\n",
    "a=np.array(range(6),float).reshape(2,3)\n",
    "print(a)\n",
    "print(a.shape)\n",
    "\n",
    "a=a.transpose()\n",
    "print(a)\n",
    "print(a.shape)\n",
    "\n",
    "a=a.flatten()\n",
    "print(a)\n",
    "print(a.shape)"
   ]
  },
  {
   "cell_type": "code",
   "execution_count": 27,
   "metadata": {},
   "outputs": [
    {
     "name": "stdout",
     "output_type": "stream",
     "text": [
      "[1. 2. 3. 4. 5. 6. 7. 8. 9.]\n",
      "[[1. 2.]\n",
      " [3. 4.]\n",
      " [5. 6.]\n",
      " [7. 8.]]\n",
      "[[1. 2.]\n",
      " [3. 4.]\n",
      " [5. 6.]\n",
      " [7. 8.]]\n",
      "[[1. 2. 5. 6.]\n",
      " [3. 4. 7. 8.]]\n"
     ]
    }
   ],
   "source": [
    "#Concatenate: two or more function with a tuple of array to be joined\n",
    "a=np.array([1,2],float)\n",
    "b=np.array([3,4,5,6],float)\n",
    "c=np.array([7,8,9],float)\n",
    "print(np.concatenate((a,b,c)))\n",
    "\n",
    "#array with multiple dimension\n",
    "a=np.array([[1,2],[3,4]],float)\n",
    "b=np.array([[5,6],[7,8]],float)\n",
    "print(np.concatenate((a,b)))\n",
    "print(np.concatenate((a,b),axis=0))\n",
    "print(np.concatenate((a,b),axis=1))"
   ]
  },
  {
   "cell_type": "code",
   "execution_count": 30,
   "metadata": {},
   "outputs": [
    {
     "name": "stdout",
     "output_type": "stream",
     "text": [
      "[[1.]\n",
      " [2.]\n",
      " [3.]]\n",
      "(3, 1)\n"
     ]
    }
   ],
   "source": [
    "#newaxis:increasing dimensionality\n",
    "a=np.array([1,2,3,],float)\n",
    "print(a[:,np.newaxis])\n",
    "print(a[:,np.newaxis].shape)"
   ]
  },
  {
   "cell_type": "code",
   "execution_count": 32,
   "metadata": {
    "scrolled": true
   },
   "outputs": [
    {
     "name": "stdout",
     "output_type": "stream",
     "text": [
      "[0. 1. 2. 3. 4.]\n",
      "[1 3 5]\n",
      "[[1. 1. 1.]\n",
      " [1. 1. 1.]]\n",
      "[0 0 0 0 0 0 0]\n",
      "[[0. 0. 0.]\n",
      " [0. 0. 0.]]\n",
      "[[1. 1. 1.]\n",
      " [1. 1. 1.]]\n",
      "[[1. 0. 0. 0.]\n",
      " [0. 1. 0. 0.]\n",
      " [0. 0. 1. 0.]\n",
      " [0. 0. 0. 1.]]\n",
      "[[0. 1. 0. 0.]\n",
      " [0. 0. 1. 0.]\n",
      " [0. 0. 0. 1.]\n",
      " [0. 0. 0. 0.]]\n",
      "[[0 0 1 0]\n",
      " [0 0 0 1]\n",
      " [0 0 0 0]\n",
      " [0 0 0 0]]\n"
     ]
    }
   ],
   "source": [
    "#other ways to create arrays\n",
    "#arange function is similar to the range function but returns an array\n",
    "a=np.arange(5,dtype=float)\n",
    "print(a)\n",
    "b=np.arange(1,6,2,dtype=int)\n",
    "print(b)\n",
    "\n",
    "#ZEROS and ONES\n",
    "a=np.ones((2,3),dtype=float)\n",
    "print(a)\n",
    "b=np.zeros(7,dtype=int)\n",
    "print(b)\n",
    "\n",
    "#zeros_like and ones_like functions create a new array with the same dimensions and type of an existing one\n",
    "a=np.array([[1,2,3],[4,5,6]],float)\n",
    "print(np.zeros_like(a))\n",
    "print(np.ones_like(a))\n",
    "\n",
    "\n",
    "#Identity: to create an identity matrix of a given size\n",
    "a=np.identity(4,dtype=float)\n",
    "print(a)\n",
    "\n",
    "#EYE function returns matrices with ones along the kth diagonal\n",
    "a=np.eye(4,k=1,dtype=float)\n",
    "print(a)\n",
    "a=np.eye(4,k=2,dtype=int)\n",
    "print(a)"
   ]
  },
  {
   "cell_type": "code",
   "execution_count": null,
   "metadata": {},
   "outputs": [],
   "source": []
  }
 ],
 "metadata": {
  "kernelspec": {
   "display_name": "Python 3 (ipykernel)",
   "language": "python",
   "name": "python3"
  },
  "language_info": {
   "codemirror_mode": {
    "name": "ipython",
    "version": 3
   },
   "file_extension": ".py",
   "mimetype": "text/x-python",
   "name": "python",
   "nbconvert_exporter": "python",
   "pygments_lexer": "ipython3",
   "version": "3.8.8"
  }
 },
 "nbformat": 4,
 "nbformat_minor": 2
}
