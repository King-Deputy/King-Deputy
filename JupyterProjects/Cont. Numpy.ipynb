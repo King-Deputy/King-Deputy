{
 "cells": [
  {
   "cell_type": "code",
   "execution_count": 1,
   "metadata": {},
   "outputs": [
    {
     "name": "stdout",
     "output_type": "stream",
     "text": [
      "[1.04880885 1.22474487 1.37840488]\n",
      "[1. 1. 1.] #give the lower rounded integer\n",
      "[2. 2. 2.] #give the upper rounded integer\n",
      "[1. 2. 2.] #give the nearest rounded integer\n"
     ]
    }
   ],
   "source": [
    "#BASIC CALCULATION\n",
    "import numpy as np\n",
    "a= np.array([1.1,1.5,1.9],float)\n",
    "print(np.sqrt(a))\n",
    "print(np.floor(a), '#give the lower rounded integer')\n",
    "print(np.ceil(a), '#give the upper rounded integer')\n",
    "print(np.rint(a), '#give the nearest rounded integer')"
   ]
  },
  {
   "cell_type": "code",
   "execution_count": 2,
   "metadata": {},
   "outputs": [
    {
     "name": "stdout",
     "output_type": "stream",
     "text": [
      "3.141592653589793\n",
      "2.718281828459045\n"
     ]
    }
   ],
   "source": [
    "#mathematical constant\n",
    "print(np.pi)\n",
    "print(np.e)"
   ]
  },
  {
   "cell_type": "code",
   "execution_count": 8,
   "metadata": {},
   "outputs": [
    {
     "name": "stdout",
     "output_type": "stream",
     "text": [
      "1\n",
      "4\n",
      "5\n",
      "[1 3 5]\n",
      "[3 8 5]\n",
      "[2 7 5]\n",
      "15\n",
      "120\n",
      "70\n"
     ]
    }
   ],
   "source": [
    "#ARRAY ITERATION\n",
    "a=np.array([1,4,5],int)\n",
    "for x in a:\n",
    "    print(x)\n",
    "b=np.array([[1,3,5], [3,8,5],[2,7,5]],int)\n",
    "for y in b:\n",
    "    print(y)\n",
    "for (x,y,z)in b:\n",
    "    print(x*y*z)"
   ]
  },
  {
   "cell_type": "code",
   "execution_count": 10,
   "metadata": {},
   "outputs": [
    {
     "name": "stdout",
     "output_type": "stream",
     "text": [
      "8.0 \t#sum of the values\n",
      "10.0 \t#product of the values\n",
      "8.0 \t #another function for sum \n",
      "2.6666666666666665 \t#average\n",
      "2.8888888888888893 \t#variance\n",
      "1.699673171197595 \t#vstandard deviation\n",
      "1.0 \t#minimum value\n",
      "5.0 \t#maximum value\n",
      "0 \t#indices of the minimum value\n",
      "2 \t#indices of the maximum value\n"
     ]
    }
   ],
   "source": [
    "#BASIC ARRAY OPERATIONS\n",
    "a=np.array([1,2,5],float)\n",
    "print(a.sum(), \"\\t#sum of the values\")\n",
    "print(a.prod(),\"\\t#product of the values\")\n",
    "print(np.sum(a), \"\\t #another function for sum \")\n",
    "print(a.mean(), \"\\t#average\")\n",
    "print(a.var(), \"\\t#variance\")\n",
    "print(a.std(), \"\\t#vstandard deviation\")\n",
    "print(a.min(), \"\\t#minimum value\")\n",
    "print(a.max(), \"\\t#maximum value\")\n",
    "print(a.argmin(), \"\\t#indices of the minimum value\")\n",
    "print(a.argmax(), \"\\t#indices of the maximum value\")"
   ]
  },
  {
   "cell_type": "code",
   "execution_count": 12,
   "metadata": {},
   "outputs": [
    {
     "name": "stdout",
     "output_type": "stream",
     "text": [
      "[0.66666667 5.        ]\n",
      "[1.  4.5 3. ]\n",
      "[ 0.  3. -1.]\n",
      "[3. 7.]\n"
     ]
    }
   ],
   "source": [
    "#MULTIDIMENSIONAL\n",
    "a=np.array([[0,2],[3,6],[-1,7]],float)\n",
    "print(a.mean(axis=0))\n",
    "print(a.mean(axis=1))\n",
    "print(a.min(axis=1))\n",
    "print(a.max(axis=0))"
   ]
  },
  {
   "cell_type": "code",
   "execution_count": 16,
   "metadata": {},
   "outputs": [
    {
     "name": "stdout",
     "output_type": "stream",
     "text": [
      "[1.9, 2.1, 3.7, 4.2, 6.4]\n",
      "[1.9 2.1 3.7 4.2 6.4]\n",
      "[2.1 3.7 4.2 1.9 4.2]\n"
     ]
    }
   ],
   "source": [
    "#SORTing\n",
    "a=np.array([2.1,3.7,6.4,1.9,4.2],float)\n",
    "print(sorted(a))\n",
    "a.sort()\n",
    "print(a)\n",
    "#CLIPPING\n",
    "a=np.array([2.1,3.7,6.4,1.9,4.2],float)\n",
    "print(a.clip(1.2,4.2))"
   ]
  },
  {
   "cell_type": "code",
   "execution_count": 2,
   "metadata": {},
   "outputs": [
    {
     "name": "stdout",
     "output_type": "stream",
     "text": [
      "[1. 2. 4. 5. 7.]\n",
      "[1 3]\n"
     ]
    }
   ],
   "source": [
    "import numpy as np\n",
    "#Extracting Unique Element\n",
    "a=np.array([1,2,1,4,5,5,5,4,7],float)\n",
    "print(np.unique(a))\n",
    "\n",
    "#diagonal\n",
    "a=np.array([[1,4],[0,3]],int)\n",
    "print(a.diagonal())"
   ]
  },
  {
   "cell_type": "code",
   "execution_count": 3,
   "metadata": {},
   "outputs": [
    {
     "name": "stdout",
     "output_type": "stream",
     "text": [
      "[ True False False]\n",
      "[False  True False]\n",
      "[False  True  True]\n"
     ]
    }
   ],
   "source": [
    "#COMPARISON OPERATORS AND VALUE TESTING\n",
    "a=np.array([1,3,0],float)\n",
    "b=np.array([0,3,5],float)\n",
    "print(a>b)\n",
    "print(a==b)\n",
    "print(a<=b)\n",
    "\n",
    "#storing result of booleen comparison\n",
    "c=a>b\n",
    "print(c)\n",
    "print(a>2)"
   ]
  },
  {
   "cell_type": "code",
   "execution_count": 1,
   "metadata": {},
   "outputs": [
    {
     "name": "stdout",
     "output_type": "stream",
     "text": [
      "True\n",
      "False\n"
     ]
    }
   ],
   "source": [
    "#ANY and ALL\n",
    "import numpy as np\n",
    "c=np.array([True,False,False],bool)\n",
    "print(any(c))\n",
    "print(all(c))"
   ]
  },
  {
   "cell_type": "code",
   "execution_count": 2,
   "metadata": {},
   "outputs": [
    {
     "name": "stdout",
     "output_type": "stream",
     "text": [
      "[ True False False]\n",
      "[False  True  True]\n",
      "[ True  True False]\n"
     ]
    }
   ],
   "source": [
    "#logical_and, logical_or and logical_not\n",
    "import numpy as np\n",
    "a=np.array([1,3,0],float)\n",
    "print(np.logical_and(a>0,a<3))\n",
    "b=np.array([True, False, False],bool)\n",
    "print(np.logical_not(b))\n",
    "c=np.array([False,True,False],bool)\n",
    "print(np.logical_or(b,c))"
   ]
  },
  {
   "cell_type": "code",
   "execution_count": 3,
   "metadata": {},
   "outputs": [
    {
     "name": "stdout",
     "output_type": "stream",
     "text": [
      "[1.         0.33333333 0.        ]\n",
      "[3 3 2]\n"
     ]
    },
    {
     "name": "stderr",
     "output_type": "stream",
     "text": [
      "c:\\users\\user\\appdata\\local\\programs\\python\\python36-32\\lib\\site-packages\\ipykernel_launcher.py:4: RuntimeWarning: divide by zero encountered in true_divide\n",
      "  after removing the cwd from sys.path.\n"
     ]
    }
   ],
   "source": [
    "#WHERE\n",
    "#where(boolarray,truearray,falsearray)\n",
    "a=np.array([1,3,0],float)\n",
    "print(np.where(a!=0,1/a,a))\n",
    "#broadcasting\n",
    "print(np.where(a>0,3,2))"
   ]
  },
  {
   "cell_type": "code",
   "execution_count": 8,
   "metadata": {},
   "outputs": [
    {
     "name": "stdout",
     "output_type": "stream",
     "text": [
      "[ 1. nan inf]\n",
      "[False  True False]\n",
      "[ True False False]\n",
      "[False False  True]\n",
      "(array([0, 0, 1], dtype=int32), array([0, 1, 1], dtype=int32))\n",
      "(array([0, 0, 0, 1, 1, 2], dtype=int32), array([0, 1, 2, 1, 2, 0], dtype=int32))\n"
     ]
    }
   ],
   "source": [
    "#testing\n",
    "a=np.array([1,np.NaN,np.inf],float)\n",
    "print(a)\n",
    "print(np.isnan(a))\n",
    "print(np.isfinite(a))\n",
    "print(np.isinf(a))\n",
    "\n",
    "a=np.array([[2,1],[0,3]],float)\n",
    "print(a.nonzero())\n",
    "b=np.array([[3,2,1],[0,1,3],[4,0,0]],float)\n",
    "print(b.nonzero())"
   ]
  },
  {
   "cell_type": "code",
   "execution_count": 10,
   "metadata": {},
   "outputs": [
    {
     "name": "stdout",
     "output_type": "stream",
     "text": [
      "[[ True False]\n",
      " [False  True]]\n",
      "[6. 9.]\n",
      "[6.]\n"
     ]
    }
   ],
   "source": [
    "#Array Item selection and manipulation\n",
    "a=np.array([[6,4],[5,9]],float)\n",
    "print(a>=6)\n",
    "print(a[a>=6])\n",
    "print(a[np.logical_and(a>5,a<9)])\n"
   ]
  },
  {
   "cell_type": "code",
   "execution_count": 11,
   "metadata": {},
   "outputs": [
    {
     "name": "stdout",
     "output_type": "stream",
     "text": [
      "[2. 2. 4. 8. 6. 4.]\n",
      "[2. 2. 4. 8. 6. 4.]\n"
     ]
    }
   ],
   "source": [
    "a=np.array([2,4,6,8],float)\n",
    "b=np.array([0,0,1,3,2,1],int)\n",
    "print(a[b])\n",
    "a=np.array([2,4,6,8],float)\n",
    "print(a[[0,0,1,3,2,1]])"
   ]
  },
  {
   "cell_type": "code",
   "execution_count": 13,
   "metadata": {},
   "outputs": [
    {
     "name": "stdout",
     "output_type": "stream",
     "text": [
      "[ 1.  4. 16. 16.  4.]\n"
     ]
    }
   ],
   "source": [
    "a=np.array([[1,4],[9,16]],float)\n",
    "b=np.array([0,0,1,1,0],int)\n",
    "c=np.array([0,1,1,1,1],int)\n",
    "print(a[b,c])"
   ]
  },
  {
   "cell_type": "code",
   "execution_count": 4,
   "metadata": {},
   "outputs": [
    {
     "name": "stdout",
     "output_type": "stream",
     "text": [
      "[2. 2. 4. 9. 6. 4.]\n",
      "[[0. 1.]\n",
      " [0. 1.]\n",
      " [2. 3.]]\n",
      "[[0. 0. 1.]\n",
      " [2. 2. 3.]]\n"
     ]
    }
   ],
   "source": [
    "#take\n",
    "import numpy as np\n",
    "a=np.array([2,4,6,9],float)\n",
    "b=np.array([0,0,1,3,2,1],int)\n",
    "print(a.take(b))\n",
    "a=np.array([[0,1],[2,3]],float)\n",
    "b=np.array([0,0,1],int)\n",
    "print(a.take(b, axis=0))\n",
    "print(a.take(b, axis=1))"
   ]
  },
  {
   "cell_type": "code",
   "execution_count": 7,
   "metadata": {},
   "outputs": [
    {
     "name": "stdout",
     "output_type": "stream",
     "text": [
      "[9. 1. 2. 8. 4. 5.]\n",
      "[5. 1. 2. 5. 4. 5.]\n"
     ]
    }
   ],
   "source": [
    "#put\n",
    "a=np.array([0,1,2,3,4,5],float)\n",
    "b=np.array([9,8,7],float)\n",
    "a.put([0,3],b)\n",
    "print(a)\n",
    "a=np.array([0,1,2,3,4,5],float)\n",
    "a.put([0,3],5)\n",
    "print(a)"
   ]
  },
  {
   "cell_type": "code",
   "execution_count": null,
   "metadata": {},
   "outputs": [],
   "source": []
  }
 ],
 "metadata": {
  "kernelspec": {
   "display_name": "Python 3 (ipykernel)",
   "language": "python",
   "name": "python3"
  },
  "language_info": {
   "codemirror_mode": {
    "name": "ipython",
    "version": 3
   },
   "file_extension": ".py",
   "mimetype": "text/x-python",
   "name": "python",
   "nbconvert_exporter": "python",
   "pygments_lexer": "ipython3",
   "version": "3.8.8"
  }
 },
 "nbformat": 4,
 "nbformat_minor": 2
}
