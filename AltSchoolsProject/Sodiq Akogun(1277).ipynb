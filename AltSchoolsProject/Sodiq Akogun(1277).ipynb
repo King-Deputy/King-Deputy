{
 "cells": [
  {
   "cell_type": "markdown",
   "id": "bdc39fb2",
   "metadata": {
    "id": "bdc39fb2"
   },
   "source": [
    "### Learning Objectives\n",
    "\n",
    "By the end of this class, you should be able to:\n",
    "\n",
    "1. Understand common Python data structures.\n",
    "2. Apply CRUD operations to data structures.\n",
    "3. Recognize use cases for data structures in data science."
   ]
  },
  {
   "cell_type": "markdown",
   "id": "d23f580c",
   "metadata": {
    "id": "d23f580c"
   },
   "source": [
    "CRUD\n",
    "\n",
    "Create\n",
    "Read\n",
    "Update\n",
    "Delete"
   ]
  },
  {
   "cell_type": "markdown",
   "id": "b4037726",
   "metadata": {
    "id": "b4037726"
   },
   "source": [
    "## 1. Lists <a id=\"lists\"></a>"
   ]
  },
  {
   "cell_type": "markdown",
   "id": "abb31eb5",
   "metadata": {
    "id": "abb31eb5"
   },
   "source": [
    "In Python, lists are versatile and commonly used to store collections of items. You can create lists using square brackets `[]`. you can also use the list function: list()\n",
    "\n",
    "lists are mutable, ordered, typically homogenous."
   ]
  },
  {
   "cell_type": "markdown",
   "id": "7a1b3ec6",
   "metadata": {
    "id": "7a1b3ec6"
   },
   "source": [
    "### Creating a Python List <a id=\"lists-create\"></a>"
   ]
  },
  {
   "cell_type": "code",
   "execution_count": null,
   "id": "ff4d7271",
   "metadata": {
    "id": "ff4d7271"
   },
   "outputs": [],
   "source": [
    "# creating a list using square brackets\n",
    "shopping_list = ['Groceries', 'Cocacola', 'Milo', 'Bama', 'Floating Berries']"
   ]
  },
  {
   "cell_type": "code",
   "execution_count": null,
   "id": "eaa11cea",
   "metadata": {
    "id": "eaa11cea",
    "outputId": "b183ac13-9f4a-48d4-f920-9ff5f1ef004e"
   },
   "outputs": [],
   "source": [
    "shopping_list"
   ]
  },
  {
   "cell_type": "code",
   "execution_count": null,
   "id": "3d7aa758",
   "metadata": {
    "id": "3d7aa758"
   },
   "outputs": [],
   "source": [
    "# create a list using the list function\n",
    "shopping_list2 = list(('Perfume', 'Soap', 'Tissue paper', 'Body cream'))"
   ]
  },
  {
   "cell_type": "code",
   "execution_count": null,
   "id": "a1ffbf00",
   "metadata": {
    "id": "a1ffbf00",
    "outputId": "0c1b0883-d61d-4e17-bb1c-e194c0ff8840"
   },
   "outputs": [],
   "source": [
    "shopping_list2"
   ]
  },
  {
   "cell_type": "code",
   "execution_count": null,
   "id": "4d9c2f5a",
   "metadata": {
    "id": "4d9c2f5a",
    "outputId": "c675d123-48a9-4a88-aa10-536982642704"
   },
   "outputs": [],
   "source": [
    "type(shopping_list2)"
   ]
  },
  {
   "cell_type": "code",
   "execution_count": null,
   "id": "5ea31ad8",
   "metadata": {
    "id": "5ea31ad8"
   },
   "outputs": [],
   "source": [
    "# create a list using the list function\n",
    "shopping_list3 = list(['Perfume', 'Soap', 'Tissue paper', 'Body cream'])"
   ]
  },
  {
   "cell_type": "code",
   "execution_count": null,
   "id": "3a88f5d2",
   "metadata": {
    "id": "3a88f5d2",
    "outputId": "5d4eaf9a-8d2a-42d2-f8e2-1155c9d45f5d"
   },
   "outputs": [],
   "source": [
    "shopping_list3"
   ]
  },
  {
   "cell_type": "code",
   "execution_count": null,
   "id": "6d359cfc",
   "metadata": {
    "id": "6d359cfc"
   },
   "outputs": [],
   "source": [
    "shopping_list4 = []"
   ]
  },
  {
   "cell_type": "markdown",
   "id": "d7f60d72",
   "metadata": {
    "id": "d7f60d72"
   },
   "source": [
    "### Reading a List <a id=\"lists-read\"></a>"
   ]
  },
  {
   "cell_type": "code",
   "execution_count": null,
   "id": "2c5bf349",
   "metadata": {
    "id": "2c5bf349",
    "outputId": "dcd928a4-4864-4b6e-cba9-f2044476807b",
    "scrolled": true
   },
   "outputs": [],
   "source": [
    "print(shopping_list3[0])"
   ]
  },
  {
   "cell_type": "code",
   "execution_count": null,
   "id": "bfba76b0",
   "metadata": {
    "id": "bfba76b0",
    "outputId": "92065d12-c22b-48cf-dbff-2be8920aa3f4"
   },
   "outputs": [],
   "source": [
    "# slicing a list: first two items\n",
    "\n",
    "print(shopping_list3[0:2])"
   ]
  },
  {
   "cell_type": "code",
   "execution_count": null,
   "id": "59d78d59",
   "metadata": {
    "id": "59d78d59"
   },
   "outputs": [],
   "source": [
    "numbers = [0, 1, 2, 3, 4, 5, 6, 7, 8, 9]"
   ]
  },
  {
   "cell_type": "code",
   "execution_count": null,
   "id": "985e266e",
   "metadata": {
    "id": "985e266e",
    "outputId": "3afddce5-0e87-4f7f-dbc6-dc597bef590e"
   },
   "outputs": [],
   "source": [
    "numbers[::2]"
   ]
  },
  {
   "cell_type": "code",
   "execution_count": null,
   "id": "be70e80c",
   "metadata": {
    "id": "be70e80c",
    "outputId": "a820db1e-3cf9-47fc-a610-780fb84e885f"
   },
   "outputs": [],
   "source": [
    "numbers[-1]"
   ]
  },
  {
   "cell_type": "markdown",
   "id": "5287005c",
   "metadata": {
    "id": "5287005c"
   },
   "source": [
    "### Updating a List <a id=\"lists-update\"></a>"
   ]
  },
  {
   "cell_type": "code",
   "execution_count": null,
   "id": "2fe412e8",
   "metadata": {
    "id": "2fe412e8",
    "outputId": "979e630b-e21f-4354-a491-7f4e98a70ea3"
   },
   "outputs": [],
   "source": [
    "dir(shopping_list4)"
   ]
  },
  {
   "cell_type": "code",
   "execution_count": null,
   "id": "40361f6c",
   "metadata": {
    "id": "40361f6c"
   },
   "outputs": [],
   "source": [
    "shopping_list4.append('Soap')"
   ]
  },
  {
   "cell_type": "code",
   "execution_count": null,
   "id": "685132ba",
   "metadata": {
    "id": "685132ba"
   },
   "outputs": [],
   "source": [
    "shopping_list4.append('Perfume')"
   ]
  },
  {
   "cell_type": "code",
   "execution_count": null,
   "id": "96f16a11",
   "metadata": {
    "id": "96f16a11",
    "outputId": "10d9fe19-2690-4c9d-be68-60b804acfe5e"
   },
   "outputs": [],
   "source": [
    "print(shopping_list4)"
   ]
  },
  {
   "cell_type": "code",
   "execution_count": null,
   "id": "12360753",
   "metadata": {
    "id": "12360753"
   },
   "outputs": [],
   "source": [
    "shopping_list4.insert(0, 'Tissue Paper')"
   ]
  },
  {
   "cell_type": "code",
   "execution_count": null,
   "id": "9b2efd10",
   "metadata": {
    "id": "9b2efd10",
    "outputId": "5fe0b258-09a3-4560-b632-0b16911495ee"
   },
   "outputs": [],
   "source": [
    "print(shopping_list4)"
   ]
  },
  {
   "cell_type": "code",
   "execution_count": null,
   "id": "0655b240",
   "metadata": {
    "id": "0655b240"
   },
   "outputs": [],
   "source": [
    "shopping_list4.extend(['Groceries', 'Cocacola', 'Milo', 'Bama', 'Floating Berries'])"
   ]
  },
  {
   "cell_type": "code",
   "execution_count": null,
   "id": "fbf59323",
   "metadata": {
    "id": "fbf59323",
    "outputId": "2b514df6-43f3-4bf2-8adb-882910d72c15"
   },
   "outputs": [],
   "source": [
    "print(shopping_list4)"
   ]
  },
  {
   "cell_type": "code",
   "execution_count": null,
   "id": "d43e680d",
   "metadata": {
    "id": "d43e680d"
   },
   "outputs": [],
   "source": [
    "# removing items from a list: remove, pop"
   ]
  },
  {
   "cell_type": "code",
   "execution_count": null,
   "id": "73cb46d2",
   "metadata": {
    "id": "73cb46d2",
    "outputId": "8f0695d5-7a3b-44d4-faba-983ad1f548dd"
   },
   "outputs": [],
   "source": [
    "shopping_list4.pop()"
   ]
  },
  {
   "cell_type": "code",
   "execution_count": null,
   "id": "6746e06b",
   "metadata": {
    "id": "6746e06b",
    "outputId": "0849da79-e7c2-4a9f-b202-f34330ad63cd"
   },
   "outputs": [],
   "source": [
    "print(shopping_list4)"
   ]
  },
  {
   "cell_type": "code",
   "execution_count": null,
   "id": "023c200b",
   "metadata": {
    "id": "023c200b"
   },
   "outputs": [],
   "source": [
    "shopping_list4.remove('Soap')"
   ]
  },
  {
   "cell_type": "code",
   "execution_count": null,
   "id": "5530b2db",
   "metadata": {
    "id": "5530b2db",
    "outputId": "17b4e52f-424c-41bc-8b4d-5f39451c5975"
   },
   "outputs": [],
   "source": [
    "print(shopping_list4)"
   ]
  },
  {
   "cell_type": "code",
   "execution_count": null,
   "id": "87638e41",
   "metadata": {
    "id": "87638e41",
    "outputId": "eb7a9668-4603-4d18-e19d-1cff86ebbd84"
   },
   "outputs": [],
   "source": [
    "shopping_list.update??"
   ]
  },
  {
   "cell_type": "markdown",
   "id": "1a723366",
   "metadata": {
    "id": "1a723366"
   },
   "source": [
    "### Delete"
   ]
  },
  {
   "cell_type": "code",
   "execution_count": null,
   "id": "27d76b64",
   "metadata": {
    "id": "27d76b64"
   },
   "outputs": [],
   "source": [
    "shopping_list4.clear()"
   ]
  },
  {
   "cell_type": "code",
   "execution_count": null,
   "id": "6385e6c1",
   "metadata": {
    "id": "6385e6c1",
    "outputId": "860add53-43b7-4929-ee7d-be9265cf481b"
   },
   "outputs": [],
   "source": [
    "print(shopping_list4)"
   ]
  },
  {
   "cell_type": "markdown",
   "id": "2e6bbc8a",
   "metadata": {
    "id": "2e6bbc8a"
   },
   "source": [
    "### List: Use Cases in Data Science <a id=\"lists-use-cases\"></a>"
   ]
  },
  {
   "cell_type": "markdown",
   "id": "74350f0e",
   "metadata": {
    "id": "74350f0e"
   },
   "source": [
    "### Use Case: Storing and Manipulating Datasets\n",
    "\n",
    "#### Background\n",
    "\n",
    "In data science, we often work with datasets that contain various types of information, such as numerical values, text data, or categorical variables. Python lists provide a convenient way to store and manipulate these datasets.\n",
    "\n",
    "#### Scenario\n",
    "\n",
    "Suppose we have collected data on the monthly sales revenue (in thousands of dollars) for a small retail store over the past year. The dataset includes sales data for each month. We want to use a Python list to store and analyze this dataset.\n",
    "\n",
    "#### Implementation\n",
    "\n",
    "Let's create a Python list called `monthly_sales` to store our dataset. Each element in the list represents the monthly sales revenue for one month, starting from January (index 0) to December (index 11).\n",
    "\n",
    "```python\n",
    "# Creating a list to store monthly sales data\n",
    "monthly_sales = [120, 135, 150, 145, 155, 160, 170, 180, 190, 200, 210, 220]\n"
   ]
  },
  {
   "cell_type": "code",
   "execution_count": null,
   "id": "7159d058",
   "metadata": {
    "id": "7159d058"
   },
   "outputs": [],
   "source": [
    "monthly_sales = [120, 135, 150, 145, 155, 160, 170, 180, 190, 200, 210, 220]"
   ]
  },
  {
   "cell_type": "code",
   "execution_count": null,
   "id": "ee788a1a",
   "metadata": {
    "id": "ee788a1a"
   },
   "outputs": [],
   "source": [
    "total_yearly_revenue = sum(monthly_sales)"
   ]
  },
  {
   "cell_type": "code",
   "execution_count": null,
   "id": "a7cd1273",
   "metadata": {
    "id": "a7cd1273",
    "outputId": "6eb53ada-e96d-47e2-93ce-e8f4951a650c"
   },
   "outputs": [],
   "source": [
    "print(total_yearly_revenue)"
   ]
  },
  {
   "cell_type": "code",
   "execution_count": null,
   "id": "d01fe4e7",
   "metadata": {
    "id": "d01fe4e7"
   },
   "outputs": [],
   "source": [
    "# avg = total/no. of total\n",
    "\n",
    "average_revenue = total_yearly_revenue / len(monthly_sales)"
   ]
  },
  {
   "cell_type": "code",
   "execution_count": null,
   "id": "a36b8137",
   "metadata": {
    "id": "a36b8137",
    "outputId": "32e0c6b6-e52a-4e71-aeb8-feb81f8fb0c6"
   },
   "outputs": [],
   "source": [
    "print(round(average_revenue, 1))"
   ]
  },
  {
   "cell_type": "markdown",
   "id": "9b7315b2",
   "metadata": {
    "id": "9b7315b2"
   },
   "source": [
    "### Assignment"
   ]
  },
  {
   "cell_type": "markdown",
   "id": "8b6f8812",
   "metadata": {
    "id": "8b6f8812"
   },
   "source": [
    "1. From the list (monthly_sales) above,\n",
    "- create four seperate lists frm the list for each quarter namely: q1, q2, q3, q4.\n",
    "- report what quarter had the highest amount in total revenue,\n",
    "- report the lowest."
   ]
  },
  {
   "cell_type": "code",
   "execution_count": null,
   "id": "51bb2e19",
   "metadata": {
    "id": "51bb2e19"
   },
   "outputs": [],
   "source": [
    "# Your code here\n",
    "q1=monthly_sales[:3]\n",
    "q2=monthly_sales[3:6]\n",
    "q3=monthly_sales[6:9]\n",
    "q4=monthly_sales[9:]\n",
    "quarter_revenue=[sum(q1),sum(q2),sum(q3),sum(q4)]\n",
    "print(\"Quarter Revenue for q1, q2, q3, q4 respectively = \", quarter_revenue)\n",
    "print(\"q4 has the highest amount in total revenue which is =\",max(quarter_revenue))\n",
    "print(\"q1 has the lowest amount in total revenue which is =\",min(quarter_revenue))"
   ]
  },
  {
   "cell_type": "markdown",
   "id": "6c0c31ee",
   "metadata": {
    "id": "6c0c31ee"
   },
   "source": [
    "2. Store the names of a few of your friends in a list called names.\n",
    "- Print each person’s name by accessing each element in the list, one at a time.\n",
    "- Start with the list you created, but instead of just printing each person’s name, print a message to them. The text of each message should be the same, but each message should be personalized with the person’s name. hint(use may use f-strings)"
   ]
  },
  {
   "cell_type": "code",
   "execution_count": null,
   "id": "5f87247d",
   "metadata": {
    "id": "5f87247d"
   },
   "outputs": [],
   "source": [
    "# Your code here\n",
    "names=['Ade', 'Shola', 'Chukwudi', 'Hassan']\n",
    "for name in names:\n",
    "    print(f\"Hi {name}, whats up?\")"
   ]
  },
  {
   "cell_type": "markdown",
   "id": "ae61bb7e",
   "metadata": {
    "id": "ae61bb7e"
   },
   "source": [
    "3. You are managing a list of students' names in your class.\n",
    "* Create a list called student_names containing the following student names as strings: 'Alice', 'Bob', 'Charlie', 'David', 'Eve'.\n",
    "- Use the student_names list from the list above for the following operations:\n",
    "  - a. Print the number of students in the class (the length of the list).\n",
    "  - b. Print the first and last student names in the list.\n",
    "  - c. Charlie has left the class. Remove his name from the list.\n",
    "  - d. A new student, \"Frank,\" has joined the class. Add his name to the list.\n",
    "  - e. The class has been dissolved, and you need to remove all student names from the list."
   ]
  },
  {
   "cell_type": "code",
   "execution_count": null,
   "id": "120d240f",
   "metadata": {
    "id": "120d240f"
   },
   "outputs": [],
   "source": [
    "# Your code here\n",
    "student_names=['Alice', 'Bob', 'Charlie', 'David', 'Eve']\n",
    "print(len(student_names))\n",
    "print('The first student name is',student_names[0])\n",
    "print('The first student name is',student_names[-1])\n",
    "student_names.remove('Charlie')\n",
    "print(student_names)\n",
    "student_names.append('Frank')\n",
    "print(student_names)\n",
    "student_names.clear()\n",
    "print(student_names)"
   ]
  },
  {
   "cell_type": "code",
   "execution_count": null,
   "id": "yikuLJmYjS6X",
   "metadata": {
    "id": "yikuLJmYjS6X"
   },
   "outputs": [],
   "source": []
  },
  {
   "cell_type": "markdown",
   "id": "bb679a2d",
   "metadata": {
    "id": "bb679a2d"
   },
   "source": [
    "## 2. Tuples <a id=\"tuples\"></a>"
   ]
  },
  {
   "cell_type": "markdown",
   "id": "030d13ec",
   "metadata": {
    "id": "030d13ec"
   },
   "source": [
    "### Create <a id=\"sets-create\"></a>"
   ]
  },
  {
   "cell_type": "markdown",
   "id": "df903ec4",
   "metadata": {
    "id": "df903ec4"
   },
   "source": [
    "Creating a tuple is done by defining a sequence of elements enclosed in parentheses."
   ]
  },
  {
   "cell_type": "code",
   "execution_count": null,
   "id": "df621515",
   "metadata": {
    "id": "df621515"
   },
   "outputs": [],
   "source": [
    "person = ('Sunday', 'Data Science', 'Fall Session')"
   ]
  },
  {
   "cell_type": "code",
   "execution_count": null,
   "id": "a765fcc6",
   "metadata": {
    "id": "a765fcc6"
   },
   "outputs": [],
   "source": [
    "person2 = 'Victoria', 'Data Science', 'Fall Session'"
   ]
  },
  {
   "cell_type": "code",
   "execution_count": null,
   "id": "ebd6d569",
   "metadata": {
    "id": "ebd6d569"
   },
   "outputs": [],
   "source": [
    "print(type(person))"
   ]
  },
  {
   "cell_type": "code",
   "execution_count": null,
   "id": "5e209751",
   "metadata": {
    "id": "5e209751"
   },
   "outputs": [],
   "source": [
    "type(person2)"
   ]
  },
  {
   "cell_type": "code",
   "execution_count": null,
   "id": "9e5c087d",
   "metadata": {
    "id": "9e5c087d"
   },
   "outputs": [],
   "source": [
    "# create a tuple using the tuple function\n",
    "\n",
    "person_tuple = tuple(['Victoria', 'Data Science', 'Fall Session'])"
   ]
  },
  {
   "cell_type": "code",
   "execution_count": null,
   "id": "151af130",
   "metadata": {
    "id": "151af130"
   },
   "outputs": [],
   "source": [
    "person_tuple"
   ]
  },
  {
   "cell_type": "markdown",
   "id": "c5f7f5ff",
   "metadata": {
    "id": "c5f7f5ff"
   },
   "source": [
    "### Read <a id=\"sets-read\"></a>"
   ]
  },
  {
   "cell_type": "markdown",
   "id": "c021fcb1",
   "metadata": {
    "id": "c021fcb1"
   },
   "source": [
    "Reading from a tuple is straightforward by accessing its elements using indexing."
   ]
  },
  {
   "cell_type": "code",
   "execution_count": null,
   "id": "13a7e478",
   "metadata": {
    "id": "13a7e478"
   },
   "outputs": [],
   "source": [
    "person2[0]"
   ]
  },
  {
   "cell_type": "code",
   "execution_count": null,
   "id": "7cc8011a",
   "metadata": {
    "id": "7cc8011a"
   },
   "outputs": [],
   "source": [
    "person2[:2]"
   ]
  },
  {
   "cell_type": "markdown",
   "id": "39499e21",
   "metadata": {
    "id": "39499e21"
   },
   "source": [
    "### Update <a id=\"sets-update\"></a>"
   ]
  },
  {
   "cell_type": "markdown",
   "id": "a70a393b",
   "metadata": {
    "id": "a70a393b"
   },
   "source": [
    "Tuples are immutable, so you cannot directly update them. To \"update,\" you need to create a new tuple."
   ]
  },
  {
   "cell_type": "code",
   "execution_count": null,
   "id": "d6e05aee",
   "metadata": {
    "id": "d6e05aee"
   },
   "outputs": [],
   "source": [
    "person3 = ('Chibuike', person[1], person[2])"
   ]
  },
  {
   "cell_type": "code",
   "execution_count": null,
   "id": "8ebfe8c9",
   "metadata": {
    "id": "8ebfe8c9"
   },
   "outputs": [],
   "source": [
    "person3"
   ]
  },
  {
   "cell_type": "markdown",
   "id": "c8e4d2d8",
   "metadata": {
    "id": "c8e4d2d8"
   },
   "source": [
    "### Delete <a id=\"sets-delete\"></a>"
   ]
  },
  {
   "cell_type": "markdown",
   "id": "78cc8e90",
   "metadata": {
    "id": "78cc8e90"
   },
   "source": [
    "Like sets, you can delete a tuple using the del statement."
   ]
  },
  {
   "cell_type": "code",
   "execution_count": null,
   "id": "0f7bf952",
   "metadata": {
    "id": "0f7bf952"
   },
   "outputs": [],
   "source": [
    "del person"
   ]
  },
  {
   "cell_type": "code",
   "execution_count": null,
   "id": "270e0e10",
   "metadata": {
    "id": "270e0e10"
   },
   "outputs": [],
   "source": [
    "person"
   ]
  },
  {
   "cell_type": "markdown",
   "id": "0ff2d0aa",
   "metadata": {
    "id": "0ff2d0aa"
   },
   "source": [
    "### Tuples: Use Cases in Data Science <a id=\"tuples-use-cases\"></a>"
   ]
  },
  {
   "cell_type": "markdown",
   "id": "bd5d470b",
   "metadata": {
    "id": "bd5d470b"
   },
   "source": [
    "- Immutability: Tuples are immutable, which means their values cannot be changed after creation. They are suitable for representing data that should not be modified, like record data.\n",
    "- Data Integrity: Tuples can be used to ensure data integrity, as their immutability prevents accidental changes.\n",
    "- Multiple Values: Tuples are often used to store multiple related values together, such as (latitude, longitude) pairs for geographical data.\n",
    "- Function Return Values: Tuples are frequently used to return multiple values from functions, making it easy to process and unpack results."
   ]
  },
  {
   "cell_type": "markdown",
   "id": "6b6b3404",
   "metadata": {
    "id": "6b6b3404"
   },
   "source": [
    "## 3. Sets <a id=\"sets\"></a>"
   ]
  },
  {
   "cell_type": "markdown",
   "id": "3bea8714",
   "metadata": {
    "id": "3bea8714"
   },
   "source": [
    "Sets are a great data type that is used for pretty specific situations. You will find sets most useful for\n",
    "de-duplicating lists or tuples or by using them to find differences between multiple lists"
   ]
  },
  {
   "cell_type": "markdown",
   "id": "a6ebd040",
   "metadata": {
    "id": "a6ebd040"
   },
   "source": [
    "### Create <a id=\"sets-create\"></a>"
   ]
  },
  {
   "cell_type": "code",
   "execution_count": null,
   "id": "af3b2a27",
   "metadata": {
    "id": "af3b2a27"
   },
   "outputs": [],
   "source": [
    "# using curly braces\n",
    "my_set = {'a', 'b', 'b', 'c', 'd', 'd'}"
   ]
  },
  {
   "cell_type": "code",
   "execution_count": null,
   "id": "3be87f94",
   "metadata": {
    "id": "3be87f94"
   },
   "outputs": [],
   "source": [
    "print(my_set)"
   ]
  },
  {
   "cell_type": "code",
   "execution_count": null,
   "id": "7742ed51",
   "metadata": {
    "id": "7742ed51"
   },
   "outputs": [],
   "source": [
    "# using the set function\n",
    "person_list = ['Chibuike', 'Data Science', 'Fall Session']\n",
    "person_set = set(person_list)\n",
    "\n",
    "print(person_set)"
   ]
  },
  {
   "cell_type": "markdown",
   "id": "a2b461d6",
   "metadata": {
    "id": "a2b461d6"
   },
   "source": [
    "### Read <a id=\"sets-read\"></a>"
   ]
  },
  {
   "cell_type": "markdown",
   "id": "c76c796f",
   "metadata": {
    "id": "c76c796f"
   },
   "source": [
    "You can access items in sets much faster than lists. A Python list will iterate over each item in a\n",
    "list until it finds the item you are looking for. When you look for an item in a set, it acts much like\n",
    "a dictionary and will find it immediately or not at all."
   ]
  },
  {
   "cell_type": "code",
   "execution_count": null,
   "id": "3d6cb26d",
   "metadata": {
    "id": "3d6cb26d"
   },
   "outputs": [],
   "source": [
    "# using the in operator\n",
    "'Fall Session' in person_set"
   ]
  },
  {
   "cell_type": "code",
   "execution_count": null,
   "id": "97ee57fa",
   "metadata": {
    "id": "97ee57fa"
   },
   "outputs": [],
   "source": [
    "# can we use indexing to get an item from the set?\n",
    "\n",
    "person_set[0] # sets are unordered."
   ]
  },
  {
   "cell_type": "markdown",
   "id": "02e9cf1c",
   "metadata": {
    "id": "02e9cf1c"
   },
   "source": [
    "### Update <a id=\"sets-update\"></a>"
   ]
  },
  {
   "cell_type": "code",
   "execution_count": null,
   "id": "d0893b34",
   "metadata": {
    "id": "d0893b34"
   },
   "outputs": [],
   "source": [
    "# using the add method to update a set\n",
    "person_set.add('First Semester')"
   ]
  },
  {
   "cell_type": "code",
   "execution_count": null,
   "id": "d60dc397",
   "metadata": {
    "id": "d60dc397"
   },
   "outputs": [],
   "source": [
    "person_set"
   ]
  },
  {
   "cell_type": "code",
   "execution_count": null,
   "id": "56295a74",
   "metadata": {
    "id": "56295a74"
   },
   "outputs": [],
   "source": [
    "# using the update method to add multiple items\n",
    "person_set.update(['Circle 113', 'Python'])"
   ]
  },
  {
   "cell_type": "code",
   "execution_count": null,
   "id": "bc5f18ad",
   "metadata": {
    "id": "bc5f18ad"
   },
   "outputs": [],
   "source": [
    "print(person_set)"
   ]
  },
  {
   "cell_type": "code",
   "execution_count": null,
   "id": "a190bfb6",
   "metadata": {
    "id": "a190bfb6"
   },
   "outputs": [],
   "source": [
    "# using the remove method\n",
    "person_set.remove('Python')"
   ]
  },
  {
   "cell_type": "code",
   "execution_count": null,
   "id": "9a5ba098",
   "metadata": {
    "id": "9a5ba098"
   },
   "outputs": [],
   "source": [
    "print(person_set)"
   ]
  },
  {
   "cell_type": "code",
   "execution_count": null,
   "id": "92f8a9e0",
   "metadata": {
    "id": "92f8a9e0"
   },
   "outputs": [],
   "source": [
    "# using pop and discard method\n",
    "person_set.discard('Circle 113')"
   ]
  },
  {
   "cell_type": "code",
   "execution_count": null,
   "id": "61755518",
   "metadata": {
    "id": "61755518"
   },
   "outputs": [],
   "source": [
    "print(person_set)"
   ]
  },
  {
   "cell_type": "code",
   "execution_count": null,
   "id": "27816ec1",
   "metadata": {
    "id": "27816ec1"
   },
   "outputs": [],
   "source": [
    "person_set.pop()"
   ]
  },
  {
   "cell_type": "markdown",
   "id": "7a52d0c1",
   "metadata": {
    "id": "7a52d0c1"
   },
   "source": [
    "### Delete <a id=\"sets-delete\"></a>"
   ]
  },
  {
   "cell_type": "code",
   "execution_count": null,
   "id": "d5b00666",
   "metadata": {
    "id": "d5b00666"
   },
   "outputs": [],
   "source": [
    "# using the del keyword deletes the set\n",
    "del person_set"
   ]
  },
  {
   "cell_type": "code",
   "execution_count": null,
   "id": "c85bed82",
   "metadata": {
    "id": "c85bed82"
   },
   "outputs": [],
   "source": [
    "person_set"
   ]
  },
  {
   "cell_type": "code",
   "execution_count": null,
   "id": "91286b35",
   "metadata": {
    "id": "91286b35"
   },
   "outputs": [],
   "source": [
    "# using the clear method empties out the set\n",
    "my_set.clear()"
   ]
  },
  {
   "cell_type": "code",
   "execution_count": null,
   "id": "b29d6139",
   "metadata": {
    "id": "b29d6139"
   },
   "outputs": [],
   "source": [
    "my_set"
   ]
  },
  {
   "cell_type": "code",
   "execution_count": null,
   "id": "b669db39",
   "metadata": {
    "id": "b669db39"
   },
   "outputs": [],
   "source": [
    "my_set.add('4')"
   ]
  },
  {
   "cell_type": "code",
   "execution_count": null,
   "id": "bcad0597",
   "metadata": {
    "id": "bcad0597"
   },
   "outputs": [],
   "source": [
    "my_set = {'Toyin', 'Data Science'}"
   ]
  },
  {
   "cell_type": "code",
   "execution_count": null,
   "id": "75121ba6",
   "metadata": {
    "id": "75121ba6"
   },
   "outputs": [],
   "source": [
    "my_set"
   ]
  },
  {
   "cell_type": "markdown",
   "id": "fe87c385",
   "metadata": {
    "id": "fe87c385"
   },
   "source": [
    "### Set operations <a id=\"sets-operate\"></a>"
   ]
  },
  {
   "cell_type": "markdown",
   "id": "d132a0e0",
   "metadata": {
    "id": "d132a0e0"
   },
   "source": [
    "- union() - Combines two sets and returns a new set\n",
    "- intersection() - Returns a new set with the elements that are common between the two sets\n",
    "- difference() - Returns a new set with elements that are not in the other set"
   ]
  },
  {
   "cell_type": "code",
   "execution_count": null,
   "id": "dc135011",
   "metadata": {
    "id": "dc135011"
   },
   "outputs": [],
   "source": [
    "first_set = {'python', 'ruby', 'javascript', 'pandas', 'numpy'}\n",
    "second_set = {'pandas', 'numpy', 'seaborn'}"
   ]
  },
  {
   "cell_type": "code",
   "execution_count": null,
   "id": "084b50ec",
   "metadata": {
    "id": "084b50ec"
   },
   "outputs": [],
   "source": [
    "first_set.union(second_set)"
   ]
  },
  {
   "cell_type": "code",
   "execution_count": null,
   "id": "de67a525",
   "metadata": {
    "id": "de67a525"
   },
   "outputs": [],
   "source": [
    "first_list = list(first_set)"
   ]
  },
  {
   "cell_type": "code",
   "execution_count": null,
   "id": "8990585e",
   "metadata": {
    "id": "8990585e"
   },
   "outputs": [],
   "source": [
    "first_list[0] = 'keras'"
   ]
  },
  {
   "cell_type": "code",
   "execution_count": null,
   "id": "a0066051",
   "metadata": {
    "id": "a0066051"
   },
   "outputs": [],
   "source": [
    "first_list"
   ]
  },
  {
   "cell_type": "code",
   "execution_count": null,
   "id": "fee48de8",
   "metadata": {
    "id": "fee48de8"
   },
   "outputs": [],
   "source": [
    "first_tuple = tuple(first_list)"
   ]
  },
  {
   "cell_type": "code",
   "execution_count": null,
   "id": "73397bd5",
   "metadata": {
    "id": "73397bd5"
   },
   "outputs": [],
   "source": [
    "first_set = set(first_tuple)"
   ]
  },
  {
   "cell_type": "code",
   "execution_count": null,
   "id": "94c80641",
   "metadata": {
    "id": "94c80641"
   },
   "outputs": [],
   "source": [
    "first_set"
   ]
  },
  {
   "cell_type": "code",
   "execution_count": null,
   "id": "d54fd84b",
   "metadata": {
    "id": "d54fd84b"
   },
   "outputs": [],
   "source": [
    "second_set"
   ]
  },
  {
   "cell_type": "code",
   "execution_count": null,
   "id": "57d5b442",
   "metadata": {
    "id": "57d5b442"
   },
   "outputs": [],
   "source": [
    "first_set.intersection(second_set)"
   ]
  },
  {
   "cell_type": "code",
   "execution_count": null,
   "id": "f224b1db",
   "metadata": {
    "id": "f224b1db"
   },
   "outputs": [],
   "source": [
    "first_set.difference(second_set)"
   ]
  },
  {
   "cell_type": "markdown",
   "id": "307fc841",
   "metadata": {
    "id": "307fc841"
   },
   "source": [
    "### Sets: Use Cases in Data Science <a id=\"sets-use-cases\"></a>"
   ]
  },
  {
   "cell_type": "markdown",
   "id": "3be934bd",
   "metadata": {
    "id": "3be934bd"
   },
   "source": [
    "- Removing Duplicates: Sets are unordered collections of unique elements. They are often used to remove duplicates from data, ensuring that only unique values are retained."
   ]
  },
  {
   "cell_type": "code",
   "execution_count": null,
   "id": "4b921936",
   "metadata": {
    "id": "4b921936"
   },
   "outputs": [],
   "source": [
    "data = [1, 2, 2, 3, 4, 4, 5]\n",
    "unique_data = set(data)"
   ]
  },
  {
   "cell_type": "markdown",
   "id": "bc5c0cc4",
   "metadata": {
    "id": "bc5c0cc4"
   },
   "source": [
    "- Membership Testing: Sets are efficient for checking whether an element is present in a dataset or not. This can be useful for filtering and data validation."
   ]
  },
  {
   "cell_type": "markdown",
   "id": "a3e2eb17",
   "metadata": {
    "id": "a3e2eb17"
   },
   "source": [
    "- Set Operations: Sets support set operations like union, intersection, and difference, which are valuable for data manipulation and analysis."
   ]
  },
  {
   "cell_type": "markdown",
   "id": "0010a764",
   "metadata": {
    "id": "0010a764"
   },
   "source": [
    "## 4. Dictionaries <a id=\"dictionaries\"></a>"
   ]
  },
  {
   "cell_type": "markdown",
   "id": "3db5fb6b",
   "metadata": {
    "id": "3db5fb6b"
   },
   "source": [
    "Dictionaries are another fundamental data type in Python. A dictionary is a (key, value) pair. Some\n",
    "programming languages refer to them as hash tables. They are described as a mapping that maps\n",
    "keys (hashable objects) to values (any object). Immutable objects are hashable (immutable means\n",
    "unable to change)."
   ]
  },
  {
   "cell_type": "markdown",
   "id": "95b108a3",
   "metadata": {
    "id": "95b108a3"
   },
   "source": [
    "### Creating a dictionary <a id=\"dictionaries-create\"></a>"
   ]
  },
  {
   "cell_type": "code",
   "execution_count": null,
   "id": "7829135e",
   "metadata": {
    "id": "7829135e"
   },
   "outputs": [],
   "source": [
    "# using curly braces and inserting key, value pairs\n",
    "student = {'firstname': 'Joshua',\n",
    "           'lastname': 'Ohayi',\n",
    "           'cirle': 113}\n"
   ]
  },
  {
   "cell_type": "code",
   "execution_count": null,
   "id": "7c441271",
   "metadata": {
    "id": "7c441271"
   },
   "outputs": [],
   "source": [
    "type(student)"
   ]
  },
  {
   "cell_type": "code",
   "execution_count": null,
   "id": "33fd1a11",
   "metadata": {
    "id": "33fd1a11"
   },
   "outputs": [],
   "source": [
    "# using the dict function and passing a list of tuples\n",
    "student2 = dict([('firstname', 'Akin-Johnson'), ('Cirle', 117), ('lastname', 'Oluwamayowa')])"
   ]
  },
  {
   "cell_type": "code",
   "execution_count": null,
   "id": "603cbbc2",
   "metadata": {
    "id": "603cbbc2"
   },
   "outputs": [],
   "source": [
    "student2"
   ]
  },
  {
   "cell_type": "markdown",
   "id": "297e2ca0",
   "metadata": {
    "id": "297e2ca0"
   },
   "source": [
    "### Reading through a Dictionary <a id=\"dictionaries-read\"></a>"
   ]
  },
  {
   "cell_type": "code",
   "execution_count": null,
   "id": "140b131d",
   "metadata": {
    "id": "140b131d"
   },
   "outputs": [],
   "source": [
    "# using the key\n",
    "student['firstname']"
   ]
  },
  {
   "cell_type": "code",
   "execution_count": null,
   "id": "fb5b1a13",
   "metadata": {
    "id": "fb5b1a13"
   },
   "outputs": [],
   "source": [
    "# using the in keyword\n",
    "'firstname' in student"
   ]
  },
  {
   "cell_type": "code",
   "execution_count": null,
   "id": "c827cecc",
   "metadata": {
    "id": "c827cecc"
   },
   "outputs": [],
   "source": [
    "'fav_food' in student"
   ]
  },
  {
   "cell_type": "code",
   "execution_count": null,
   "id": "ae61696f",
   "metadata": {
    "id": "ae61696f"
   },
   "outputs": [],
   "source": [
    "# checking all items :dict.items()\n",
    "student.items()"
   ]
  },
  {
   "cell_type": "code",
   "execution_count": null,
   "id": "e3634c90",
   "metadata": {
    "id": "e3634c90"
   },
   "outputs": [],
   "source": [
    "# checking all values :dict.values()\n",
    "student.values()"
   ]
  },
  {
   "cell_type": "code",
   "execution_count": null,
   "id": "dd9d4f44",
   "metadata": {
    "id": "dd9d4f44"
   },
   "outputs": [],
   "source": [
    "# using the get method to retrieve the value of a key in a dictionary\n",
    "# returns 'Not Available' if key is not in the dictionary else it returns the value.\n",
    "student.get('fav_drink', 'Not Availble')"
   ]
  },
  {
   "cell_type": "markdown",
   "id": "a159b321",
   "metadata": {
    "id": "a159b321"
   },
   "source": [
    "### Updating a Dictionary <a id=\"dictionaries-update\"></a>"
   ]
  },
  {
   "cell_type": "code",
   "execution_count": null,
   "id": "81970ead",
   "metadata": {
    "id": "81970ead"
   },
   "outputs": [],
   "source": [
    "# re assign the value by accessing the key if the key isnt available, a new k:v pair is created\n",
    "student['fav_food'] = 'Groceries'"
   ]
  },
  {
   "cell_type": "code",
   "execution_count": null,
   "id": "b939aee6",
   "metadata": {
    "id": "b939aee6"
   },
   "outputs": [],
   "source": [
    "student"
   ]
  },
  {
   "cell_type": "code",
   "execution_count": null,
   "id": "b6dc4361",
   "metadata": {
    "id": "b6dc4361"
   },
   "outputs": [],
   "source": [
    "# using the update method."
   ]
  },
  {
   "cell_type": "code",
   "execution_count": null,
   "id": "c3f448ee",
   "metadata": {
    "id": "c3f448ee"
   },
   "outputs": [],
   "source": [
    "# using the pop method to remove a k:v pair\n",
    "student.pop('cirle')"
   ]
  },
  {
   "cell_type": "code",
   "execution_count": null,
   "id": "e86488ef",
   "metadata": {
    "id": "e86488ef"
   },
   "outputs": [],
   "source": [
    "student"
   ]
  },
  {
   "cell_type": "code",
   "execution_count": null,
   "id": "4d64faa0",
   "metadata": {
    "id": "4d64faa0"
   },
   "outputs": [],
   "source": [
    "# using the popitem method\n",
    "student.popitem()"
   ]
  },
  {
   "cell_type": "code",
   "execution_count": null,
   "id": "31f82b0f",
   "metadata": {
    "id": "31f82b0f"
   },
   "outputs": [],
   "source": [
    "old_key = 'firstname'\n",
    "new_key = 'alias'\n",
    "\n",
    "student[new_key] = student.pop(old_key)\n"
   ]
  },
  {
   "cell_type": "code",
   "execution_count": null,
   "id": "6e2ba1fa",
   "metadata": {
    "id": "6e2ba1fa"
   },
   "outputs": [],
   "source": [
    "student"
   ]
  },
  {
   "cell_type": "markdown",
   "id": "689dda47",
   "metadata": {
    "id": "689dda47"
   },
   "source": [
    "### Deleting a Dictionary <a id=\"dictionaries-delete\"></a>"
   ]
  },
  {
   "cell_type": "code",
   "execution_count": null,
   "id": "06fc602f",
   "metadata": {
    "id": "06fc602f"
   },
   "outputs": [],
   "source": [
    "del student['circle']"
   ]
  },
  {
   "cell_type": "code",
   "execution_count": null,
   "id": "d5f0dc6f",
   "metadata": {
    "id": "d5f0dc6f",
    "scrolled": true
   },
   "outputs": [],
   "source": [
    "student"
   ]
  },
  {
   "cell_type": "code",
   "execution_count": null,
   "id": "5e2fa0a0",
   "metadata": {
    "id": "5e2fa0a0"
   },
   "outputs": [],
   "source": [
    "revenue = {'months':['jan', 'feb', 'mar',\n",
    "                    'apr', 'may','jun', 'jul',\n",
    "                    'aug', 'sept', 'oct',\n",
    "                    'nov', 'dec'],\n",
    "          'monthly_sales': [120, 135, 150, 145, 155, 160, 170, 180, 190, 200, 210, 220] }"
   ]
  },
  {
   "cell_type": "code",
   "execution_count": null,
   "id": "624244c0",
   "metadata": {
    "id": "624244c0"
   },
   "outputs": [],
   "source": [
    "revenue"
   ]
  },
  {
   "cell_type": "markdown",
   "id": "348195cc",
   "metadata": {
    "id": "348195cc"
   },
   "source": [
    "### Dictionaries: Use Cases in Data Science <a id=\"dictionaries-use-cases\"></a>"
   ]
  },
  {
   "cell_type": "markdown",
   "id": "606360a2",
   "metadata": {
    "id": "606360a2"
   },
   "source": [
    "## 5. DataFrames"
   ]
  },
  {
   "cell_type": "markdown",
   "id": "a716eb73",
   "metadata": {
    "id": "a716eb73"
   },
   "source": [
    "2-dimensional structures for handling tabular data"
   ]
  },
  {
   "cell_type": "code",
   "execution_count": null,
   "id": "fb24a1bc",
   "metadata": {
    "id": "fb24a1bc"
   },
   "outputs": [],
   "source": [
    "import pandas as pd"
   ]
  },
  {
   "cell_type": "code",
   "execution_count": null,
   "id": "7205cbf3",
   "metadata": {
    "id": "7205cbf3"
   },
   "outputs": [],
   "source": [
    "revenue_df = pd.DataFrame(revenue)"
   ]
  },
  {
   "cell_type": "code",
   "execution_count": null,
   "id": "7e785383",
   "metadata": {
    "id": "7e785383"
   },
   "outputs": [],
   "source": [
    "revenue_df"
   ]
  },
  {
   "cell_type": "markdown",
   "id": "3075fcd5",
   "metadata": {
    "id": "3075fcd5"
   },
   "source": [
    "## Exercises"
   ]
  },
  {
   "cell_type": "markdown",
   "id": "d35d9350",
   "metadata": {
    "id": "d35d9350"
   },
   "source": [
    "1. a) Create a dictionary representing a library catalog. The keys should be book titles, and the values should be the corresponding authors. Allow the user to input a book title and display the author's name.\n",
    "\n",
    "   b) Extend the library catalog program to allow users to add new books to the catalog by providing the title and author."
   ]
  },
  {
   "cell_type": "code",
   "execution_count": null,
   "id": "48966cd0",
   "metadata": {
    "id": "48966cd0"
   },
   "outputs": [],
   "source": [
    "Library = {'Statistics':'Gupta', \n",
    "           'Mathematics':'Bello', \n",
    "           'Road to Science':'Newton',\n",
    "            'Economy Agenda':'Orji'}\n",
    "print('Book Title = Statistics, Mathematics, Road to Science, Economy Agenda' )\n",
    "User_input=str(input('Enter book title from the above list to get Author', ))\n",
    "print(f\"The author of {User_input} is\",Library[User_input])\n"
   ]
  },
  {
   "cell_type": "markdown",
   "id": "90863950",
   "metadata": {
    "id": "90863950"
   },
   "source": [
    "2. Create a dictionary that represents a dataset of 10 students' and thier test scores (4 courses). The keys should be dictionaries bearing student names, in the nested dictionary, let the keys represent a course and the value a score for that course. Allow the user to input a student's name and display their average test score.\n",
    "\n",
    "   Create a DataFrame from the student test scores dictionary using pandas. Display the DataFrame to the user."
   ]
  },
  {
   "cell_type": "code",
   "execution_count": null,
   "id": "7ce0bd7b",
   "metadata": {},
   "outputs": [],
   "source": [
    "import pandas as pd\n",
    "\n",
    "student_scores = {\n",
    "    \"Shade\": {\"Math\": 5, \"Science\": 0, \"Econs\": 8, \"Eng\": 2},\n",
    "    \"Kola\": {\"Math\": 2, \"Science\": 8, \"Econs\": 6, \"Eng\": 9},\n",
    "    \"Ade\": {\"Math\": 8, \"Science\": 4, \"Econs\": 2, \"Eng\": 7},\n",
    "    \"Tom\": {\"Math\": 1, \"Science\": 7, \"Econs\": 9, \"Eng\": 5},\n",
    "    \"Mary\": {\"Math\": 6, \"Science\": 2, \"Econs\": 8, \"Eng\": 1},\n",
    "    \"Peace\": {\"Math\": 0, \"Science\": 4, \"Econs\": 5,\"Eng\": 1},\n",
    "    \"Joy\": {\"Math\": 3, \"Science\": 1, \"Econs\": 8, \"Eng\": 5},\n",
    "    \"Akin\": {\"Math\": 4, \"Science\": 3, \"Econs\": 7, \"Eng\": 4},\n",
    "    \"Hassan\": {\"Math\": 5, \"Science\": 2, \"Econs\": 1, \"Eng\": 5},\n",
    "    \"Chuks\": {\"Math\": 3, \"Science\": 6, \"Econs\": 7, \"Eng\": 9}\n",
    "}\n",
    "student_name=str(input('Enter Student name: '))\n",
    "scores = student_scores.get(student_name)\n",
    "total_score = sum(scores.values())\n",
    "num_courses = len(scores)\n",
    "average_score= total_score / num_courses\n",
    "print(f\"The average test score for {student_name} is: {round(average_score, 1)}\")\n"
   ]
  },
  {
   "cell_type": "code",
   "execution_count": null,
   "id": "92a7507c",
   "metadata": {},
   "outputs": [],
   "source": [
    "student_df = pd.DataFrame(student_scores)\n",
    "\n",
    "print(\"\\nDataFrame of Student Test Scores:\")\n",
    "print(student_df)"
   ]
  },
  {
   "cell_type": "markdown",
   "id": "836c9541",
   "metadata": {
    "id": "836c9541"
   },
   "source": [
    "3. Create a dictionary that represents an online store's inventory. The keys should be product names, and the values should be tuples containing the price and available quantity. Allow the user to input a product name, and display its price and availability.\n",
    "\n",
    "    Extend the online store program to allow users to \"purchase\" products by specifying the product name and the quantity they want to buy. Update the inventory accordingly and display the total cost of the purchase."
   ]
  },
  {
   "cell_type": "code",
   "execution_count": null,
   "id": "f9d97006",
   "metadata": {
    "id": "f9d97006"
   },
   "outputs": [],
   "source": [
    "# Create the online store's inventory dictionary\n",
    "inventory = {\n",
    "    \"Garri\": (40.5, 50),\n",
    "    \"Agbado\": (10.5, 100),\n",
    "    \"Cassava\": (8.4, 75),\n",
    "    \"Ewa\": (5.9, 30)\n",
    "}\n",
    "product_name=input(\"Enter Product Name: \")\n",
    "product_info = inventory.get(product_name)\n",
    "if product_info:\n",
    "    price, available_quantity = product_info\n",
    "    print(f\"Product: {product_name}\")\n",
    "    print(f\"Price per unit: #{round(price,1)}\")\n",
    "    print(f\"Available Quantity: {available_quantity}\")\n",
    "else:\n",
    "    print(f\"Product '{product_name}' not found in the inventory.\")\n",
    "\n",
    "    "
   ]
  },
  {
   "cell_type": "code",
   "execution_count": null,
   "id": "99dd3fa9",
   "metadata": {},
   "outputs": [],
   "source": [
    "#make purchase\n",
    "product_name=input(\"Enter Product Name: \")\n",
    "quantity=int(input(\"Enter Quantity Needed: \"))\n",
    "product_info = inventory.get(product_name)\n",
    "if product_info:\n",
    "    price, available_quantity = product_info\n",
    "    if available_quantity >= quantity:\n",
    "        total_cost = price * quantity\n",
    "        print(f\"You are purchasing {quantity} {product_name}(s) for #{round(total_cost,2)}\")\n",
    "        inventory[product_name] = (price, available_quantity - quantity)\n",
    "        print(f\"Updated Quantity: {available_quantity - quantity}\")\n",
    "    else:\n",
    "        print(f\"Insufficient quantity of {product_name} in stock.\")\n",
    "else:\n",
    "    print(f\"Product '{product_name}' not found in the inventory.\")\n"
   ]
  },
  {
   "cell_type": "code",
   "execution_count": null,
   "id": "c66ffedc",
   "metadata": {},
   "outputs": [],
   "source": [
    "# User interaction with the online store\n",
    "\n",
    "inventory = {\n",
    "    \"Garri\": (40.5, 50),\n",
    "    \"Agbado\": (10.5, 100),\n",
    "    \"Cassava\": (8.4, 75),\n",
    "    \"Ewa\": (5.9, 30)\n",
    "}\n",
    "while True:\n",
    "    print(\"\\nOnline Store Menu:\")\n",
    "    print(\"1. Check Product Price and Availability\")\n",
    "    print(\"2. Make a Purchase\")\n",
    "    print(\"3. Exit\")\n",
    "    choice = input(\"Enter your choice (1/2/3): \")\n",
    "\n",
    "    if choice == \"1\":\n",
    "        product_name = input(\"Enter the product name to check: \")\n",
    "        product_info = inventory.get(product_name)\n",
    "        if product_info:\n",
    "            price, available_quantity = product_info\n",
    "            print(f\"Product: {product_name}\")\n",
    "            print(f\"Price per unit: #{round(price,1)}\")\n",
    "            print(f\"Available Quantity: {available_quantity}\")\n",
    "        else:\n",
    "            print(f\"Product '{product_name}' not found in the inventory.\")\n",
    "    elif choice == \"2\":\n",
    "        product_name = input(\"Enter the product name to purchase: \")\n",
    "        quantity=int(input(\"Enter Quantity to purchase: \"))\n",
    "        product_info = inventory.get(product_name)\n",
    "        if product_info:\n",
    "            price, available_quantity = product_info\n",
    "            if available_quantity >= quantity:\n",
    "                total_cost = price * quantity\n",
    "                print(f\"You are purchasing {quantity} {product_name}(s) for #{round(total_cost,1)}\")\n",
    "                inventory[product_name] = (price, available_quantity - quantity)\n",
    "                print(f\"Updated Quantity: {available_quantity - quantity}\")\n",
    "            else:\n",
    "                print(f\"Insufficient quantity of {product_name} in stock.\")\n",
    "        else:\n",
    "            print(f\"Product '{product_name}' not found in the inventory.\")\n",
    "    elif choice == \"3\":\n",
    "        break\n",
    "    else:\n",
    "        print(\"Invalid choice. Please choose 1, 2, or 3.\")"
   ]
  },
  {
   "cell_type": "markdown",
   "id": "2ee885a8",
   "metadata": {
    "id": "2ee885a8"
   },
   "source": [
    "4. Create an empty dictionary to represent a glossary. Allow users to add new words and their definitions to the glossary.\n",
    "\n",
    "    Implement a feature that lets users search for the definition of a word. If the word is not in the glossary, inform the user that the word is not found."
   ]
  },
  {
   "cell_type": "code",
   "execution_count": null,
   "id": "60fd5144",
   "metadata": {
    "id": "60fd5144"
   },
   "outputs": [],
   "source": [
    "\n",
    "glossary = {}\n",
    "\n",
    "# Main program loop\n",
    "while True:\n",
    "    print(\"\\nGlossary Menu:\")\n",
    "    print(\"1. Add a Word and Definition\")\n",
    "    print(\"2. Search for a Definition\")\n",
    "    print(\"3. Exit\")\n",
    "    Option = input(\"Enter your option (1/2/3): \")\n",
    "\n",
    "    if Option == \"1\":\n",
    "        word = input(\"Enter a new word: \")\n",
    "        definition = input(\"Enter the definition: \")\n",
    "        glossary[word] = definition\n",
    "        print(f\"Added '{word}' to the glossary with the definition: {definition}\")\n",
    "    elif Option == \"2\":\n",
    "        word = input(\"Enter the word to search for: \")\n",
    "        definition = glossary.get(word)\n",
    "        if definition:\n",
    "            print(f\"Definition of '{word}': {definition}\")\n",
    "        else:\n",
    "            print(f\"'{word}' not found in the glossary.\")\n",
    "    elif Option == \"3\":\n",
    "        break\n",
    "    else:\n",
    "        print(\"Invalid option. Please choose 1, 2, or 3.\")"
   ]
  },
  {
   "cell_type": "code",
   "execution_count": null,
   "id": "R6HZ75ujjSu4",
   "metadata": {
    "id": "R6HZ75ujjSu4"
   },
   "outputs": [],
   "source": []
  },
  {
   "cell_type": "code",
   "execution_count": null,
   "id": "sTy8ZEDCjkLx",
   "metadata": {
    "id": "sTy8ZEDCjkLx"
   },
   "outputs": [],
   "source": []
  },
  {
   "cell_type": "code",
   "execution_count": null,
   "id": "KAUJFNf4jnlY",
   "metadata": {
    "id": "KAUJFNf4jnlY"
   },
   "outputs": [],
   "source": []
  }
 ],
 "metadata": {
  "colab": {
   "provenance": []
  },
  "kernelspec": {
   "display_name": "Python 3 (ipykernel)",
   "language": "python",
   "name": "python3"
  },
  "language_info": {
   "codemirror_mode": {
    "name": "ipython",
    "version": 3
   },
   "file_extension": ".py",
   "mimetype": "text/x-python",
   "name": "python",
   "nbconvert_exporter": "python",
   "pygments_lexer": "ipython3",
   "version": "3.8.8"
  }
 },
 "nbformat": 4,
 "nbformat_minor": 5
}
