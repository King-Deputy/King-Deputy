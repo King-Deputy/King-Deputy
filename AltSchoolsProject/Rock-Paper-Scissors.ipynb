{
 "cells": [
  {
   "cell_type": "markdown",
   "id": "984e93a0",
   "metadata": {},
   "source": [
    "- Rock crushes scissors (Rock wins against Scissors).\n",
    "- Scissors cut paper (Scissors wins against Paper).\n",
    "- Paper covers rock (Paper wins against Rock).\n",
    "\n",
    "- Tie (both choices are the same) "
   ]
  },
  {
   "cell_type": "code",
   "execution_count": 1,
   "id": "e3633078",
   "metadata": {},
   "outputs": [],
   "source": [
    "import random"
   ]
  },
  {
   "cell_type": "code",
   "execution_count": 8,
   "id": "8f3d1c9b",
   "metadata": {},
   "outputs": [],
   "source": [
    "# user will enter a choice between rock, paper or scissors\n",
    "\n",
    "def get_user_choice():\n",
    "    user_input = input('enter a choice between rock, paper or scissors: \\n').lower()\n",
    "    while user_input not in ['rock', 'paper', 'scissors']:\n",
    "        print('Invalid input, kindly take between rock, paper or scissors')\n",
    "        user_input = input('enter a choice between rock, paper or scissors').lower()\n",
    "    return user_input"
   ]
  },
  {
   "cell_type": "code",
   "execution_count": 3,
   "id": "f958fc0b",
   "metadata": {},
   "outputs": [
    {
     "name": "stdout",
     "output_type": "stream",
     "text": [
      "enter a choice between rock, paper or scissorsrock\n"
     ]
    },
    {
     "data": {
      "text/plain": [
       "'rock'"
      ]
     },
     "execution_count": 3,
     "metadata": {},
     "output_type": "execute_result"
    }
   ],
   "source": [
    "get_user_choice()"
   ]
  },
  {
   "cell_type": "code",
   "execution_count": 4,
   "id": "766a322f",
   "metadata": {},
   "outputs": [],
   "source": [
    "def get_computer_choice():\n",
    "    computer_actions = ['rock', 'scissors', 'paper']\n",
    "    computer_choice = random.choice(computer_actions)\n",
    "    return computer_choice"
   ]
  },
  {
   "cell_type": "code",
   "execution_count": 5,
   "id": "c690d204",
   "metadata": {},
   "outputs": [
    {
     "data": {
      "text/plain": [
       "'scissors'"
      ]
     },
     "execution_count": 5,
     "metadata": {},
     "output_type": "execute_result"
    }
   ],
   "source": [
    "get_computer_choice()"
   ]
  },
  {
   "cell_type": "code",
   "execution_count": 22,
   "id": "515702de",
   "metadata": {},
   "outputs": [],
   "source": [
    "scores = {'player':0, 'computer':0, 'tie': 0}\n",
    "def determine_winner(user_choice, computer_choice):\n",
    "    \n",
    "    \n",
    "    if user_choice == computer_choice:\n",
    "        scores['tie'] += 1\n",
    "        return 'it is a tie!'\n",
    "    \n",
    "    elif(\n",
    "        (user_choice == 'rock' and computer_choice == 'scissors') or\n",
    "        (user_choice == 'paper' and computer_choice == 'rock') or\n",
    "        (user_choice == 'scissors' and computer_choice == 'paper')):\n",
    "        scores['player'] += 1\n",
    "        return 'You win!'\n",
    "    else:\n",
    "        scores['computer'] += 1\n",
    "        return 'You lose!'"
   ]
  },
  {
   "cell_type": "code",
   "execution_count": 23,
   "id": "02662f71",
   "metadata": {},
   "outputs": [],
   "source": [
    "def rock_paper_scissors():\n",
    "    print(\"Let's play Rock Paper Scissors\")\n",
    "    user_choice = get_user_choice()\n",
    "    computer_choice = get_computer_choice()\n",
    "\n",
    "    print(f'You chose: {user_choice}')\n",
    "    print(f'Computer chose: {computer_choice}')\n",
    "\n",
    "\n",
    "    result = determine_winner(user_choice, computer_choice)\n",
    "    print(result)\n",
    "    print(scores)"
   ]
  },
  {
   "cell_type": "code",
   "execution_count": 27,
   "id": "7518f710",
   "metadata": {},
   "outputs": [
    {
     "name": "stdout",
     "output_type": "stream",
     "text": [
      "Let's play Rock Paper Scissors\n",
      "enter a choice between rock, paper or scissors: \n",
      "rock\n",
      "You chose: rock\n",
      "Computer chose: paper\n",
      "You lose!\n",
      "{'player': 1, 'computer': 3, 'tie': 0}\n"
     ]
    }
   ],
   "source": [
    "rock_paper_scissors()"
   ]
  },
  {
   "cell_type": "code",
   "execution_count": null,
   "id": "dce21389",
   "metadata": {},
   "outputs": [],
   "source": []
  }
 ],
 "metadata": {
  "kernelspec": {
   "display_name": "Python 3 (ipykernel)",
   "language": "python",
   "name": "python3"
  },
  "language_info": {
   "codemirror_mode": {
    "name": "ipython",
    "version": 3
   },
   "file_extension": ".py",
   "mimetype": "text/x-python",
   "name": "python",
   "nbconvert_exporter": "python",
   "pygments_lexer": "ipython3",
   "version": "3.11.4"
  }
 },
 "nbformat": 4,
 "nbformat_minor": 5
}
