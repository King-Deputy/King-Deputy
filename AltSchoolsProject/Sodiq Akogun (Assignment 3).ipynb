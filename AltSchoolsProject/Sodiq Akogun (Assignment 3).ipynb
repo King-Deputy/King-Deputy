{
 "cells": [
  {
   "cell_type": "markdown",
   "id": "9c4a81cd",
   "metadata": {},
   "source": [
    "# Sodiq Akogun -1277\n",
    "# Solution to Alt_School Assignment 3"
   ]
  },
  {
   "cell_type": "markdown",
   "id": "fd03db0e",
   "metadata": {},
   "source": [
    "## Write a Python program to validate a user's input of a numerical value. If the input is not a number, provide feedback; otherwise, determine if it's even or odd"
   ]
  },
  {
   "cell_type": "code",
   "execution_count": null,
   "id": "31ec9586",
   "metadata": {},
   "outputs": [],
   "source": [
    "while True:\n",
    "    user_input = input(\"Enter a number: \")\n",
    "    \n",
    "    try:\n",
    "        number = float(user_input)\n",
    "        if number.is_integer():\n",
    "            number = int(number)\n",
    "        \n",
    "        if number % 2 == 0:\n",
    "            print(f\"{number} is an even number.\")\n",
    "        else:\n",
    "            print(f\"{number} is an odd number.\")\n",
    "        break\n",
    "    except ValueError:\n",
    "        print(\"Invalid input. Please enter a valid number.\")\n",
    "    "
   ]
  },
  {
   "cell_type": "markdown",
   "id": "4b977bf6",
   "metadata": {},
   "source": [
    "## 1b. Write a Python program that accepts three sides of a triangle and checks if it's an equlateral, isosceless or scalene triangle. Note: equilateral triangle - has 3 equal sides, isosceles triangle- has at least 2 equal sides. scalene triangle - has 3 unequal sides."
   ]
  },
  {
   "cell_type": "code",
   "execution_count": null,
   "id": "8a2eee07",
   "metadata": {},
   "outputs": [],
   "source": [
    "# Input the lengths of the three sides\n",
    "sideA = float(input(\"Enter the length of the first side (cm): \"))\n",
    "sideB = float(input(\"Enter the length of the second side (cm): \"))\n",
    "sideC = float(input(\"Enter the length of the third side (cm): \"))\n",
    "\n",
    "# Check for equilateral, isosceles, or scalene triangle\n",
    "if sideA == sideB == sideC:\n",
    "    print(\"It's an equilateral triangle.\")\n",
    "elif sideA == sideB or sideB == sideC or sideA == sideC:\n",
    "    print(\"It's an isosceles triangle.\")\n",
    "else:\n",
    "    print(\"It's a scalene triangle.\")"
   ]
  },
  {
   "cell_type": "markdown",
   "id": "d6267612",
   "metadata": {},
   "source": [
    "## 2a. a. Write a for loop that finds and prints all prime numbers from 1 to 50. convert the for loop-based prime number computation into a list comprehension."
   ]
  },
  {
   "cell_type": "code",
   "execution_count": null,
   "id": "440a598f",
   "metadata": {},
   "outputs": [],
   "source": [
    "# Function to check if a number is prime\n",
    "def is_prime(number):\n",
    "    if number <= 1:\n",
    "        return False\n",
    "    if number <= 3:\n",
    "        return True\n",
    "    if number % 2 == 0 or number % 3 == 0:\n",
    "        return False\n",
    "    i = 5\n",
    "    while i * i <= number:\n",
    "        if number % i == 0 or number % (i + 2) == 0:\n",
    "            return False\n",
    "        i += 6\n",
    "    return True\n",
    "\n",
    "# Use list comprehension to find prime numbers and store them in a list\n",
    "prime_numbers = [number for number in range(2, 51) if is_prime(number)]\n",
    "\n",
    "# Print the list of prime numbers\n",
    "print(prime_numbers)"
   ]
  },
  {
   "cell_type": "markdown",
   "id": "0660b288",
   "metadata": {},
   "source": [
    "## 2b. Given the list of dictionaries below where each dictionary represents a property, use a loop to add price per area to each dictionary: price_per_m2."
   ]
  },
  {
   "cell_type": "code",
   "execution_count": null,
   "id": "28a3a80c",
   "metadata": {},
   "outputs": [],
   "source": [
    "# List of dictionaries representing properties\n",
    "properties = [\n",
    "    {\"property_type\": \"Supermarket\", \"price_in_naira\": 125000, \"area\": 60},\n",
    "    {\"property_type\": \"Office\", \"price_in_naira\": 252000, \"area\": 150},\n",
    "    {\"property_type\": \"House\", \"price_in_naira\": 10000, \"area\": 75},\n",
    "    {\"property_type\": \"Playground\", \"price_in_naira\": 50000, \"area\": 250},\n",
    "]\n",
    "\n",
    "# Calculate and add \"price_per_m2\" to each dictionary\n",
    "for property in properties:\n",
    "    price = property[\"price\"]\n",
    "    area = property[\"area\"]\n",
    "    price_per_m2 = price / area\n",
    "    property[\"price_per_m2\"] = price_per_m2\n",
    "\n",
    "# Print the updated list of dictionaries\n",
    "for property in properties:\n",
    "    print(property)"
   ]
  },
  {
   "cell_type": "markdown",
   "id": "8a156513",
   "metadata": {},
   "source": [
    "## 3. Write a function called square_odd that has one parameter. Your function must calculate the square of each odd number in a list.Return a Python list containing the squared values. Challenge yourself: Solve this problem with a list comprehension!"
   ]
  },
  {
   "cell_type": "code",
   "execution_count": null,
   "id": "601efee7",
   "metadata": {},
   "outputs": [],
   "source": [
    "def square_odd(numbers):\n",
    "    squared_odd_numbers = [x ** 2 for x in numbers if x % 2 != 0]\n",
    "    return squared_odd_numbers\n",
    "\n",
    "#Solving with list comprehension\n",
    "start=int(input('Enter start number: '))\n",
    "end=int(input('Enter End number:'))\n",
    "input_list = list(range(start, end+1))\n",
    "result = square_odd(input_list)\n",
    "print(result)"
   ]
  },
  {
   "cell_type": "markdown",
   "id": "f3edc479",
   "metadata": {},
   "source": [
    "## 4. Create a Python function called classify_age that takes an age as an argument and returns the following classifications: If the age is less than 18, return \"Minor.\" If the age is between 18 and 65 (inclusive), return \"Adult.\" If the age is greater than 65, return \"Senior Citizen.\""
   ]
  },
  {
   "cell_type": "code",
   "execution_count": null,
   "id": "d98523c9",
   "metadata": {},
   "outputs": [],
   "source": [
    "def classify_age(age):\n",
    "    if age < 18:\n",
    "        return \"Minor\"\n",
    "    elif 18 <= age <= 65:\n",
    "        return \"Adult\"\n",
    "    else:\n",
    "        return \"Senior Citizen\"\n",
    "\n",
    "#Taking an Instance\n",
    "age = int(input(\"Enter your age: \"))\n",
    "classification = classify_age(age)\n",
    "print(f\"The classification for age {age} is {classification}.\")"
   ]
  },
  {
   "cell_type": "code",
   "execution_count": null,
   "id": "ad3ad69f",
   "metadata": {},
   "outputs": [],
   "source": []
  }
 ],
 "metadata": {
  "kernelspec": {
   "display_name": "Python 3 (ipykernel)",
   "language": "python",
   "name": "python3"
  },
  "language_info": {
   "codemirror_mode": {
    "name": "ipython",
    "version": 3
   },
   "file_extension": ".py",
   "mimetype": "text/x-python",
   "name": "python",
   "nbconvert_exporter": "python",
   "pygments_lexer": "ipython3",
   "version": "3.8.8"
  }
 },
 "nbformat": 4,
 "nbformat_minor": 5
}
