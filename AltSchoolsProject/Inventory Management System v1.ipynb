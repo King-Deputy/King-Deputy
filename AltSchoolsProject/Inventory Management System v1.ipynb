{
 "cells": [
  {
   "cell_type": "markdown",
   "id": "175668ce",
   "metadata": {},
   "source": [
    "Build an inventory management system for a supermarket"
   ]
  },
  {
   "cell_type": "code",
   "execution_count": 3,
   "id": "ad5cd414",
   "metadata": {},
   "outputs": [],
   "source": [
    "import pandas as pd"
   ]
  },
  {
   "cell_type": "code",
   "execution_count": 32,
   "id": "8422f32c",
   "metadata": {},
   "outputs": [],
   "source": [
    "# add product function\n",
    "\n",
    "def add_product():\n",
    "    product_name = input(\"Enter product name: \")\n",
    "    quantity = int(input('Enter quantity: '))\n",
    "    price = float(input('Enter price per unit: '))\n",
    "    \n",
    "    with open('inventory_data.csv', 'a') as file:\n",
    "        file.write(f'{product_name}, {quantity}, {price}\\n')\n",
    "    print(f'Product {product_name} added succesfully!\\n')\n",
    "    \n",
    "# view inventory\n",
    "def view_inventory():\n",
    "    try:\n",
    "        df = pd.read_csv('inventory_data.csv', header=None, names=['Product Name', 'Quantity', 'Price'])\n",
    "        \n",
    "        if df.empty:\n",
    "            print('No products in the inventory')\n",
    "        else:\n",
    "            print('\\n')\n",
    "            print('Product Inventory:')\n",
    "            print(df)\n",
    "    except FileNotFoundError:\n",
    "        print('File does not exist')\n",
    "        \n",
    "# search for a product\n",
    "def search_product():\n",
    "    search_name = input('Enter the name of the product to search: ')\n",
    "    \n",
    "    try:\n",
    "        df = pd.read_csv('inventory_data.csv', header=None, names=['Product Name', 'Quantity', 'Price'])\n",
    "        \n",
    "    \n",
    "        result = df[df['Product Name'].str.lower() == search_name.lower()]\n",
    "\n",
    "        if result.empty:\n",
    "            print(f\"No product with the name :'{search_name}'\")\n",
    "        else:\n",
    "            print('product found')\n",
    "            return result\n",
    "    except FileNotFoundError:\n",
    "        print('file not found')"
   ]
  },
  {
   "cell_type": "code",
   "execution_count": 33,
   "id": "eeca2815",
   "metadata": {},
   "outputs": [],
   "source": [
    "def run_inventory_ms():\n",
    "    while True:\n",
    "        print('\\nInventory Management System')\n",
    "        print('1. Add Product')\n",
    "        print('2. View Inventory')\n",
    "        print('3. Search Product')\n",
    "        print('4. Exit')\n",
    "\n",
    "        choice = input('Enter your choice (1-4): ')\n",
    "        if choice == '1':\n",
    "            add_product()\n",
    "        elif choice == '2':\n",
    "            view_inventory()\n",
    "        elif choice == '3':\n",
    "            search_product()\n",
    "        elif choice == '4':\n",
    "            break\n",
    "        else:\n",
    "            print('Invalid choice. please enter a number between 1 and 4.')"
   ]
  },
  {
   "cell_type": "code",
   "execution_count": 34,
   "id": "8ec58bec",
   "metadata": {},
   "outputs": [
    {
     "name": "stdout",
     "output_type": "stream",
     "text": [
      "\n",
      "Inventory Management System\n",
      "1. Add Product\n",
      "2. View Inventory\n",
      "3. Search Product\n",
      "4. Exit\n",
      "Enter your choice (1-4): 2\n",
      "\n",
      "\n",
      "Product Inventory:\n",
      "  Product Name  Quantity   Price\n",
      "0  JBL speaker        30  4500.0\n",
      "1     Monitors        20  5000.0\n",
      "2   Microphone        50  2000.0\n",
      "3     Chargers        20   500.0\n",
      "\n",
      "Inventory Management System\n",
      "1. Add Product\n",
      "2. View Inventory\n",
      "3. Search Product\n",
      "4. Exit\n",
      "Enter your choice (1-4): 1\n",
      "Enter product name: Oraimo ear buds\n",
      "Enter quantity: 40\n",
      "Enter price per unit: 1500\n",
      "Product Oraimo ear buds added succesfully!\n",
      "\n",
      "\n",
      "Inventory Management System\n",
      "1. Add Product\n",
      "2. View Inventory\n",
      "3. Search Product\n",
      "4. Exit\n",
      "Enter your choice (1-4): 2\n",
      "\n",
      "\n",
      "Product Inventory:\n",
      "      Product Name  Quantity   Price\n",
      "0      JBL speaker        30  4500.0\n",
      "1         Monitors        20  5000.0\n",
      "2       Microphone        50  2000.0\n",
      "3         Chargers        20   500.0\n",
      "4  Oraimo ear buds        40  1500.0\n",
      "\n",
      "Inventory Management System\n",
      "1. Add Product\n",
      "2. View Inventory\n",
      "3. Search Product\n",
      "4. Exit\n",
      "Enter your choice (1-4): 4\n"
     ]
    }
   ],
   "source": [
    "run_inventory_ms()"
   ]
  },
  {
   "cell_type": "code",
   "execution_count": null,
   "id": "555c0475",
   "metadata": {},
   "outputs": [],
   "source": []
  }
 ],
 "metadata": {
  "kernelspec": {
   "display_name": "Python 3 (ipykernel)",
   "language": "python",
   "name": "python3"
  },
  "language_info": {
   "codemirror_mode": {
    "name": "ipython",
    "version": 3
   },
   "file_extension": ".py",
   "mimetype": "text/x-python",
   "name": "python",
   "nbconvert_exporter": "python",
   "pygments_lexer": "ipython3",
   "version": "3.11.4"
  }
 },
 "nbformat": 4,
 "nbformat_minor": 5
}
