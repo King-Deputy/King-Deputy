{
 "cells": [
  {
   "cell_type": "markdown",
   "id": "85b30668",
   "metadata": {},
   "source": [
    "Data Exploration:\n",
    "\n",
    "Problem: You have a dataset containing information about customer orders. Use Python to calculate the total number of orders, the average order value, and the most common product purchased."
   ]
  },
  {
   "cell_type": "code",
   "execution_count": 29,
   "id": "69675e9c",
   "metadata": {},
   "outputs": [],
   "source": [
    "supermarket_data = [\n",
    "    {'TransactionID': 1, 'Product': 'Milk', 'Price': 2.99},\n",
    "    {'TransactionID': 2, 'Product': 'Bread', 'Price': 1.99},\n",
    "    {'TransactionID': 3, 'Product': None, 'Price': 3.49},\n",
    "    {'TransactionID': 4, 'Product': 'Eggs', 'Price': 1.79},\n",
    "    {'TransactionID': 5, 'Product': 'Milk', 'Price': 4.99},\n",
    "    {'TransactionID': 6, 'Product': 'Bread', 'Price': 4.99},\n",
    "    {'TransactionID': 7, 'Product': 'Milk', 'Price': 4.99}\n",
    "]"
   ]
  },
  {
   "cell_type": "code",
   "execution_count": 5,
   "id": "35681498",
   "metadata": {},
   "outputs": [
    {
     "name": "stdout",
     "output_type": "stream",
     "text": [
      "5\n"
     ]
    }
   ],
   "source": [
    "# total number of orders\n",
    "count = 0\n",
    "for order in supermarket_data:\n",
    "    count = count + 1\n",
    "print(count)\n",
    "#total_orders = len(supermarket_data['TransactionID'])"
   ]
  },
  {
   "cell_type": "code",
   "execution_count": 9,
   "id": "5538be44",
   "metadata": {},
   "outputs": [],
   "source": [
    "# average order value\n",
    "\n",
    "total_price = 0\n",
    "for price in supermarket_data:\n",
    "    total_price += price['Price']\n",
    "average = total_price / count"
   ]
  },
  {
   "cell_type": "code",
   "execution_count": 10,
   "id": "44422af1",
   "metadata": {},
   "outputs": [
    {
     "data": {
      "text/plain": [
       "3.0500000000000003"
      ]
     },
     "execution_count": 10,
     "metadata": {},
     "output_type": "execute_result"
    }
   ],
   "source": [
    "average"
   ]
  },
  {
   "cell_type": "code",
   "execution_count": 32,
   "id": "0142fb82",
   "metadata": {},
   "outputs": [],
   "source": [
    "total_order_value = 0\n",
    "product_counts = {}"
   ]
  },
  {
   "cell_type": "code",
   "execution_count": 33,
   "id": "4fdd4a9a",
   "metadata": {},
   "outputs": [],
   "source": [
    "for order in supermarket_data:\n",
    "    product = order['Product']\n",
    "    if product in product_counts:\n",
    "        product_counts[product] += 1\n",
    "    else:\n",
    "        product_counts[product] = 1\n"
   ]
  },
  {
   "cell_type": "code",
   "execution_count": 34,
   "id": "565dd0f3",
   "metadata": {},
   "outputs": [
    {
     "data": {
      "text/plain": [
       "{'Milk': 3, 'Bread': 2, None: 1, 'Eggs': 1}"
      ]
     },
     "execution_count": 34,
     "metadata": {},
     "output_type": "execute_result"
    }
   ],
   "source": [
    "product_counts"
   ]
  },
  {
   "cell_type": "markdown",
   "id": "695c2ec9",
   "metadata": {},
   "source": [
    "Data Cleaning:\n",
    "\n",
    "Problem: Your dataset has missing values in a column. Write a Python script to identify and count the missing values in that column."
   ]
  },
  {
   "cell_type": "code",
   "execution_count": 35,
   "id": "a405e9af",
   "metadata": {},
   "outputs": [],
   "source": [
    "supermarket_data = [\n",
    "    {'TransactionID': 1, 'Product': 'Milk', 'Price': 2.99},\n",
    "    {'TransactionID': 2, 'Product': 'Bread', 'Price': 1.99},\n",
    "    {'TransactionID': 3, 'Product': None, 'Price': 3.49},\n",
    "    {'TransactionID': 4, 'Product': 'Eggs', 'Price': 1.79},\n",
    "    {'TransactionID': 5, 'Product': 'Milk', 'Price': 4.99},\n",
    "    {'TransactionID': 6, 'Product': None, 'Price': 4.99},\n",
    "    {'TransactionID': 7, 'Product': 'Milk', 'Price': 4.99}\n",
    "]"
   ]
  },
  {
   "cell_type": "code",
   "execution_count": 36,
   "id": "31feef80",
   "metadata": {},
   "outputs": [],
   "source": [
    "column_to_check = 'Product'\n",
    "missing_count = 0"
   ]
  },
  {
   "cell_type": "code",
   "execution_count": 37,
   "id": "fb64c3fa",
   "metadata": {},
   "outputs": [],
   "source": [
    "for transaction in supermarket_data:\n",
    "    if transaction[column_to_check] == None:\n",
    "        missing_count += 1"
   ]
  },
  {
   "cell_type": "code",
   "execution_count": 38,
   "id": "be5ac84d",
   "metadata": {},
   "outputs": [
    {
     "data": {
      "text/plain": [
       "2"
      ]
     },
     "execution_count": 38,
     "metadata": {},
     "output_type": "execute_result"
    }
   ],
   "source": [
    "missing_count"
   ]
  },
  {
   "cell_type": "markdown",
   "id": "fb036da6",
   "metadata": {},
   "source": [
    "Data Preprocessing:\n",
    "\n",
    "Problem: You have a dataset with a 'date' column in the format 'yyyy-mm-dd'. Write a Python function to extract the year and month from the date and store them in separate lists."
   ]
  },
  {
   "cell_type": "code",
   "execution_count": 39,
   "id": "b8e46e7d",
   "metadata": {},
   "outputs": [],
   "source": [
    "dataset = [\n",
    "    {'ID': 1, 'Date': '2023-04-15', 'Value': 42},\n",
    "    {'ID': 2, 'Date': '2023-05-20', 'Value': 56},\n",
    "    {'ID': 3, 'Date': '2023-04-02', 'Value': 34},\n",
    "    {'ID': 4, 'Date': '2023-06-10', 'Value': 78},\n",
    "    {'ID': 5, 'Date': '2023-05-12', 'Value': 65},\n",
    "]"
   ]
  },
  {
   "cell_type": "code",
   "execution_count": 40,
   "id": "b27a037a",
   "metadata": {},
   "outputs": [],
   "source": [
    "def extract_year_and_month(data, date_column):\n",
    "    years = []\n",
    "    months = []\n",
    "    \n",
    "    for entry in data:\n",
    "        date = entry.get(date_column)\n",
    "        if date:\n",
    "            year, month, _ = date.split('-')\n",
    "            years.append(year)\n",
    "            months.append(month)\n",
    "    return years, months"
   ]
  },
  {
   "cell_type": "code",
   "execution_count": 48,
   "id": "249f71c1",
   "metadata": {},
   "outputs": [],
   "source": [
    "date = '2023-11-08-19:41'\n",
    "year, month, _, _ = date.split('-')"
   ]
  },
  {
   "cell_type": "code",
   "execution_count": 41,
   "id": "d96a3036",
   "metadata": {},
   "outputs": [],
   "source": [
    "years, months = extract_year_and_month(dataset, 'Date')"
   ]
  },
  {
   "cell_type": "code",
   "execution_count": 42,
   "id": "f422d3e8",
   "metadata": {},
   "outputs": [
    {
     "name": "stdout",
     "output_type": "stream",
     "text": [
      "Years: ['2023', '2023', '2023', '2023', '2023']\n",
      "Months: ['04', '05', '04', '06', '05']\n"
     ]
    }
   ],
   "source": [
    "print(f'Years: {years}')\n",
    "print(f'Months: {months}')"
   ]
  },
  {
   "cell_type": "markdown",
   "id": "e50c78cb",
   "metadata": {},
   "source": [
    "Data Filtering and Transformation:\n",
    "\n",
    "Problem: You have a list of student records as dictionaries. Filter the records of students who scored above a certain threshold and calculate their final grades."
   ]
  },
  {
   "cell_type": "code",
   "execution_count": 43,
   "id": "ae424ba0",
   "metadata": {},
   "outputs": [],
   "source": [
    "student_records = [\n",
    "    {'ID': 1, 'Name': 'Alice', 'Math_Score': 85, 'English_Score': 78},\n",
    "    {'ID': 2, 'Name': 'Bob', 'Math_Score': 92, 'English_Score': 88},\n",
    "    {'ID': 3, 'Name': 'Charlie', 'Math_Score': 78, 'English_Score': 95},\n",
    "    {'ID': 4, 'Name': 'David', 'Math_Score': 65, 'English_Score': 72},\n",
    "    {'ID': 5, 'Name': 'Eve', 'Math_Score': 89, 'English_Score': 91},\n",
    "]\n",
    "threshold = 80"
   ]
  },
  {
   "cell_type": "code",
   "execution_count": null,
   "id": "3121ba4f",
   "metadata": {},
   "outputs": [],
   "source": []
  }
 ],
 "metadata": {
  "kernelspec": {
   "display_name": "Python 3 (ipykernel)",
   "language": "python",
   "name": "python3"
  },
  "language_info": {
   "codemirror_mode": {
    "name": "ipython",
    "version": 3
   },
   "file_extension": ".py",
   "mimetype": "text/x-python",
   "name": "python",
   "nbconvert_exporter": "python",
   "pygments_lexer": "ipython3",
   "version": "3.11.4"
  }
 },
 "nbformat": 4,
 "nbformat_minor": 5
}
