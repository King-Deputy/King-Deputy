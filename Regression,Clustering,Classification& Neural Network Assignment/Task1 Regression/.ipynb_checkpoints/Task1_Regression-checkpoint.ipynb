{
 "cells": [
  {
   "cell_type": "markdown",
   "metadata": {
    "id": "XumACPeBF5yN"
   },
   "source": [
    "# Task 1"
   ]
  },
  {
   "cell_type": "markdown",
   "metadata": {
    "id": "z3DOFZuAGEB-"
   },
   "source": [
    "## Regression"
   ]
  },
  {
   "cell_type": "markdown",
   "metadata": {
    "id": "GEi0C2mnGX5v"
   },
   "source": [
    "### Importing Necessary Libraries"
   ]
  },
  {
   "cell_type": "code",
   "execution_count": null,
   "metadata": {
    "id": "rEZ1LeLZGBxf"
   },
   "outputs": [],
   "source": [
    "# Importing all libraries that would be needed throughout the experiment\n",
    "import pandas as pd\n",
    "import numpy as np\n",
    "import matplotlib.pyplot as plt\n",
    "import seaborn as sns\n",
    "import statsmodels.api as sm\n",
    "from sklearn.model_selection import train_test_split\n",
    "from sklearn.linear_model gbimport LinearRegression\n",
    "from sklearn.metrics import mean_squared_error, r2_score\n",
    "from sklearn.preprocessing import StandardScaler\n",
    "from sklearn.model_selection import train_test_split\n",
    "from sklearn.linear_model import Lasso\n",
    "from sklearn.model_selection import GridSearchCV\n",
    "from sklearn.ensemble import RandomForestRegressor\n",
    "from sklearn.metrics import mean_squared_error, r2_score\n",
    "from statsmodels.stats.outliers_influence import variance_inflation_factor\n",
    "from sklearn.linear_model import Ridge"
   ]
  },
  {
   "cell_type": "code",
   "execution_count": null,
   "metadata": {
    "id": "rgm3IDX2GfrH"
   },
   "outputs": [],
   "source": [
    "# Importing the Houseprice data\n",
    "data = pd.read_csv(\"C:/Users/Dell/Desktop/project/DN BATCH  8/Scepter/Regression,Clustering,Classification& Neural Network Assignment/Task1 Regression/Houseprice_data.csv\")"
   ]
  },
  {
   "cell_type": "markdown",
   "metadata": {
    "id": "s-Ej4cIkLbzz"
   },
   "source": [
    "### Data Inspection/ Cleaning"
   ]
  },
  {
   "cell_type": "code",
   "execution_count": null,
   "metadata": {
    "colab": {
     "base_uri": "https://localhost:8080/",
     "height": 226
    },
    "id": "8h_jm033LbPY",
    "outputId": "0eb4f982-27ee-4d46-dc3b-157dc9011a40"
   },
   "outputs": [],
   "source": [
    "data.head()"
   ]
  },
  {
   "cell_type": "code",
   "execution_count": null,
   "metadata": {
    "colab": {
     "base_uri": "https://localhost:8080/"
    },
    "id": "flZyLKmzHEfH",
    "outputId": "56932f59-d78e-4a76-af35-bb781f347466"
   },
   "outputs": [],
   "source": [
    "data.info(), data.describe()"
   ]
  },
  {
   "cell_type": "code",
   "execution_count": null,
   "metadata": {
    "colab": {
     "base_uri": "https://localhost:8080/"
    },
    "id": "_gJjX8ouLqs-",
    "outputId": "83708248-16ec-49f7-912c-b6e22d531d48"
   },
   "outputs": [],
   "source": [
    "# Checking for null values\n",
    "data.isnull().sum()"
   ]
  },
  {
   "cell_type": "code",
   "execution_count": null,
   "metadata": {
    "id": "68OghS-yL4Nl"
   },
   "outputs": [],
   "source": [
    "# After checking for duplicates, there was 5 duplicates which was then dropped\n",
    "data.duplicated().sum()\n",
    "data = data.drop_duplicates()"
   ]
  },
  {
   "cell_type": "code",
   "execution_count": null,
   "metadata": {},
   "outputs": [],
   "source": []
  },
  {
   "cell_type": "markdown",
   "metadata": {
    "id": "D7qaNP8OMP7P"
   },
   "source": [
    "### Data Preprocessing"
   ]
  },
  {
   "cell_type": "code",
   "execution_count": null,
   "metadata": {
    "id": "adF-EdkjMZg-"
   },
   "outputs": [],
   "source": [
    "# Scaling the data\n",
    "columns=data.drop('price',axis=1).columns\n",
    "scaler = StandardScaler()\n",
    "data_rescaled = scaler.fit_transform(data.drop('price',axis=1))\n",
    "scaled_df = pd.DataFrame(data_rescaled, columns=columns)\n",
    "scaled_df['price']=data['price']\n",
    "scaled_df_no_nan = scaled_df.dropna()\n",
    "scaled_df.head()"
   ]
  },
  {
   "cell_type": "code",
   "execution_count": null,
   "metadata": {
    "colab": {
     "base_uri": "https://localhost:8080/",
     "height": 941
    },
    "id": "AW86P_36GRc_",
    "outputId": "d45b6749-4d48-4ae8-89e7-c32032f76aa9"
   },
   "outputs": [],
   "source": [
    "# Calculating the correlation matrix\n",
    "correlation_matrix = data.corr()\n",
    "\n",
    "# Plotting the correlation heatmap\n",
    "plt.figure(figsize=(16, 10))\n",
    "sns.heatmap(correlation_matrix, annot=True, cmap='coolwarm', fmt=\".2f\", linewidths=.5)\n",
    "plt.title('Correlation Heatmap')\n",
    "plt.show()"
   ]
  },
  {
   "cell_type": "code",
   "execution_count": null,
   "metadata": {
    "colab": {
     "base_uri": "https://localhost:8080/"
    },
    "id": "fy_QKUApGsIU",
    "outputId": "2ff13167-37cb-4c36-c0f5-5ff6afc13c91"
   },
   "outputs": [],
   "source": [
    "# Extracting the independent variables\n",
    "X = data.drop('price', axis=1)\n",
    "\n",
    "# Calculating VIF for each variable\n",
    "vif_data = pd.DataFrame()\n",
    "vif_data[\"Variable\"] = X.columns\n",
    "vif_data[\"VIF\"] = [variance_inflation_factor(X.values, i) for i in range(X.shape[1])]\n",
    "\n",
    "# Display the VIF values\n",
    "print(vif_data)\n"
   ]
  },
  {
   "cell_type": "code",
   "execution_count": null,
   "metadata": {},
   "outputs": [],
   "source": [
    "# Function to calculate VIF\n",
    "def calculate_vif(data_frame):\n",
    "    variables = data_frame.columns\n",
    "    vif_data = pd.DataFrame()\n",
    "    vif_data[\"Variable\"] = variables\n",
    "    vif_data[\"VIF\"] = [variance_inflation_factor(data_frame.values, i) for i in range(data_frame.shape[1])]\n",
    "    return vif_data\n",
    "\n",
    "# Calculate VIF for each variable\n",
    "vif_result = calculate_vif(X)\n",
    "\n",
    "# Identify variables with VIF > 10 or infinity\n",
    "high_vif_variables = vif_result[vif_result['VIF'] > 10].append(vif_result[vif_result['VIF'] == np.inf])['Variable'].tolist()\n",
    "\n",
    "# Drop variables from the DataFrame\n",
    "X_filtered = X.drop(columns=high_vif_variables)\n",
    "\n",
    "# Print the original and filtered DataFrames\n",
    "print(\"Original DataFrame:\")\n",
    "print(X.head())\n",
    "print(\"\\nDataFrame after dropping variables with VIF > 10 or infinity:\")\n",
    "print(X_filtered.head())"
   ]
  },
  {
   "cell_type": "markdown",
   "metadata": {
    "id": "nsjoL-O_O-i_"
   },
   "source": [
    "**This are the Columns that was dropped** sqft_living, sqft_above, sqft_basement, waterfront_0, waterfront_1, view_0, view_1, view_2, view_3, view_4, condition_1, condition_2, condition_3, condition_4, condition_5, grade_1, grade_3, grade_4, grade_5, grade_6, grade_7, grade_8, grade_9, grade_10, grade_11, grade_12, grade_13\n",
    "\n",
    "**These features were highly correlated with other features in the dataset, making them redundant and causing issues like infinite VIF values. Dropping them helps to address multicollinearity.**"
   ]
  },
  {
   "cell_type": "markdown",
   "metadata": {
    "id": "W_u7ous0OMWo"
   },
   "source": [
    "### Training the Model"
   ]
  },
  {
   "cell_type": "code",
   "execution_count": null,
   "metadata": {
    "id": "QQJEKQOzMe7u"
   },
   "outputs": [],
   "source": [
    "# Splitting to test and train data\n",
    "X_filtered['price']=data['price']\n",
    "X_new=sm.add_constant(X_filtered.drop('price', axis=1))\n",
    "y=X_filtered['price']\n",
    "X_train, X_test, y_train, y_test = train_test_split(X_new, y, test_size=0.2, random_state=42)\n",
    "print(X_test.head())\n"
   ]
  },
  {
   "cell_type": "code",
   "execution_count": null,
   "metadata": {
    "colab": {
     "base_uri": "https://localhost:8080/",
     "height": 75
    },
    "id": "jIiT0bB-Mi0t",
    "outputId": "aae0092c-704f-4a61-ba9b-6dc1584009c5"
   },
   "outputs": [],
   "source": [
    "# Using Linear Regression Model on the reduced features\n",
    "\n",
    "# Fit the linear regression model\n",
    "model = sm.OLS(y_train, X_train).fit()\n",
    "\n",
    "# Print the model summary\n",
    "print(model.summary())\n"
   ]
  },
  {
   "cell_type": "code",
   "execution_count": null,
   "metadata": {},
   "outputs": [],
   "source": [
    "# Splitting to test and train data on the whole features\n",
    "X2=sm.add_constant(data.drop('price', axis=1))\n",
    "y=data['price']\n",
    "X_train2, X_test2, y_train2, y_test2 = train_test_split(X2, y, test_size=0.2, random_state=42)"
   ]
  },
  {
   "cell_type": "code",
   "execution_count": null,
   "metadata": {},
   "outputs": [],
   "source": [
    "# Using Linear Regression Model\n",
    "\n",
    "# Fit the linear regression model\n",
    "model2 = sm.OLS(y_train2, X_train2).fit()\n",
    "\n",
    "# Print the model summary\n",
    "print(model2.summary())"
   ]
  },
  {
   "cell_type": "code",
   "execution_count": null,
   "metadata": {
    "colab": {
     "base_uri": "https://localhost:8080/",
     "height": 564
    },
    "id": "Bp6yZHFjMxgu",
    "outputId": "31b1c485-c430-43a0-efcb-250881858649"
   },
   "outputs": [],
   "source": [
    "# Making predictions on the test set\n",
    "y_pred2 = model2.predict(X_test2)\n",
    "\n",
    "# Plotting residuals against one input (bedrooms)\n",
    "plt.figure(figsize=(10, 6))\n",
    "plt.scatter(X_test2['bedrooms'], y_test2 - y_pred2, c='blue', marker='o', label='Residuals')\n",
    "plt.axhline(y=0, color='red', linestyle='--', linewidth=2, label='Zero Residual Line')\n",
    "plt.xlabel('bedrooms')\n",
    "plt.ylabel('Residuals')\n",
    "plt.title('Residual Plot')\n",
    "plt.legend()\n",
    "plt.show()"
   ]
  },
  {
   "cell_type": "code",
   "execution_count": null,
   "metadata": {
    "colab": {
     "base_uri": "https://localhost:8080/"
    },
    "id": "E0kfwPNgM2JW",
    "outputId": "3d858e75-3e10-457e-d899-79703cc05ac8"
   },
   "outputs": [],
   "source": [
    "# Measuring the effectiveness of the model by using Mse and R2 score\n",
    "mse = mean_squared_error(y_test, y_pred)\n",
    "r2 = r2_score(y_test, y_pred)\n",
    "print(\"Mean Squared Error: \", mse)\n",
    "print(\"R-squared (R2) Score: \", r2)"
   ]
  },
  {
   "cell_type": "code",
   "execution_count": null,
   "metadata": {},
   "outputs": [],
   "source": [
    "# Measuring the effectiveness of the model by using Mse and R2 score\n",
    "mse2 = mean_squared_error(y_test2, y_pred2)\n",
    "r22 = r2_score(y_test2, y_pred2)\n",
    "print(\"Mean Squared Error: \", mse2)\n",
    "print(\"R-squared (R2) Score: \", r22)"
   ]
  },
  {
   "cell_type": "markdown",
   "metadata": {
    "id": "fXis_XzgOUZv"
   },
   "source": [
    "### Visualising the predicted model"
   ]
  },
  {
   "cell_type": "code",
   "execution_count": null,
   "metadata": {
    "colab": {
     "base_uri": "https://localhost:8080/",
     "height": 472
    },
    "id": "t6l0Zbj_Nqm2",
    "outputId": "bb0d805b-028a-4509-dbcf-3b62886aa6f4"
   },
   "outputs": [],
   "source": [
    "# Creating a scatter plot of actual vs. predicted prices and showing the regression line\n",
    "plt.scatter(y_test2, y_pred2, color='blue', label='Data Points')\n",
    "plt.plot([min(y_test2), max(y_test2)], [min(y_test2), max(y_test2)], color='red', linestyle='--', linewidth=2, label='Regression Line')\n",
    "\n",
    "plt.xlabel(\"Actual Prices\")\n",
    "plt.ylabel(\"Predicted Prices\")\n",
    "plt.title(\"Actual Prices vs. Predicted Prices\")\n",
    "plt.legend()\n",
    "\n",
    "plt.show()\n"
   ]
  },
  {
   "cell_type": "markdown",
   "metadata": {
    "id": "uma0WUmpruGA"
   },
   "source": [
    "### Exploring Advanced Regression models"
   ]
  },
  {
   "cell_type": "markdown",
   "metadata": {
    "id": "IDOAxWjwr1UD"
   },
   "source": [
    "#### Random Forest"
   ]
  },
  {
   "cell_type": "code",
   "execution_count": null,
   "metadata": {
    "colab": {
     "base_uri": "https://localhost:8080/"
    },
    "id": "IR5a4Sq_Qzse",
    "outputId": "011d380c-016b-4735-deb5-ac20382c63a3"
   },
   "outputs": [],
   "source": [
    "# Creating a Random Forest Regressor\n",
    "rf_regressor = RandomForestRegressor(random_state=42)\n",
    "\n",
    "rf_regressor.fit(X_train2, y_train2)\n",
    "y_pred2_rf = rf_regressor.predict(X_test2)\n",
    "\n",
    "# E# Measuring the effectiveness of the Random Forest model by using Mse and R2 score\n",
    "mse_rf = mean_squared_error(y_test2, y_pred2_rf)\n",
    "r2_rf = r2_score(y_test2, y_pred2_rf)\n",
    "\n",
    "print(\"Random Forest Regression - Mean Squared Error: \", mse_rf)\n",
    "print(\"Random Forest Regression - R-squared (R2) Score: \", r2_rf)"
   ]
  },
  {
   "cell_type": "code",
   "execution_count": null,
   "metadata": {
    "colab": {
     "base_uri": "https://localhost:8080/",
     "height": 472
    },
    "id": "e64biqugR3Ef",
    "outputId": "bd690240-e0a9-4288-bcba-0946cb320a4c"
   },
   "outputs": [],
   "source": [
    "# Create a scatter plot of actual vs. predicted prices and showing the regression line\n",
    "plt.scatter(y_test2, y_pred2_rf, color='blue', label='Data Points')\n",
    "plt.plot([min(y_test2), max(y_test2)], [min(y_test2), max(y_test2)], color='red', linestyle='--', linewidth=2, label='Regression Line')\n",
    "\n",
    "plt.xlabel(\"Actual Prices\")\n",
    "plt.ylabel(\"Predicted Prices (Random Forest)\")\n",
    "plt.title(\"Actual Prices vs. Predicted Prices (Random Forest)\")\n",
    "plt.legend()\n",
    "\n",
    "plt.show()"
   ]
  },
  {
   "cell_type": "code",
   "execution_count": null,
   "metadata": {
    "id": "PPirh8rBTyPu"
   },
   "outputs": [],
   "source": []
  }
 ],
 "metadata": {
  "colab": {
   "provenance": []
  },
  "kernelspec": {
   "display_name": "Python 3 (ipykernel)",
   "language": "python",
   "name": "python3"
  },
  "language_info": {
   "codemirror_mode": {
    "name": "ipython",
    "version": 3
   },
   "file_extension": ".py",
   "mimetype": "text/x-python",
   "name": "python",
   "nbconvert_exporter": "python",
   "pygments_lexer": "ipython3",
   "version": "3.8.8"
  }
 },
 "nbformat": 4,
 "nbformat_minor": 1
}
